{
  "nbformat": 4,
  "nbformat_minor": 0,
  "metadata": {
    "colab": {
      "provenance": [],
      "include_colab_link": true
    },
    "kernelspec": {
      "name": "python3",
      "display_name": "Python 3"
    },
    "language_info": {
      "name": "python"
    }
  },
  "cells": [
    {
      "cell_type": "markdown",
      "metadata": {
        "id": "view-in-github",
        "colab_type": "text"
      },
      "source": [
        "<a href=\"https://colab.research.google.com/github/siddiqial/StartupCampus/blob/main/SC62110_Siddiqi_Albiruny_Data_Preprocessing_(Sales_Marketing).ipynb\" target=\"_parent\"><img src=\"https://colab.research.google.com/assets/colab-badge.svg\" alt=\"Open In Colab\"/></a>"
      ]
    },
    {
      "cell_type": "code",
      "execution_count": null,
      "metadata": {
        "id": "SMroBFcF_Xf_"
      },
      "outputs": [],
      "source": [
        "import pandas as pd\n",
        "import numpy as np\n",
        "import matplotlib.pyplot as plt\n",
        "import seaborn as sns"
      ]
    },
    {
      "cell_type": "code",
      "source": [
        "data = pd.read_csv(\"/content/train.csv\")\n",
        "display(data)"
      ],
      "metadata": {
        "colab": {
          "base_uri": "https://localhost:8080/",
          "height": 443
        },
        "id": "77UZvr7u_htY",
        "outputId": "39f88c77-ed31-48aa-b5f9-5c6036d53740"
      },
      "execution_count": null,
      "outputs": [
        {
          "output_type": "display_data",
          "data": {
            "text/plain": [
              "        Id  MSSubClass MSZoning  LotFrontage  LotArea Street Alley LotShape  \\\n",
              "0        1          60       RL         65.0     8450   Pave   NaN      Reg   \n",
              "1        2          20       RL         80.0     9600   Pave   NaN      Reg   \n",
              "2        3          60       RL         68.0    11250   Pave   NaN      IR1   \n",
              "3        4          70       RL         60.0     9550   Pave   NaN      IR1   \n",
              "4        5          60       RL         84.0    14260   Pave   NaN      IR1   \n",
              "...    ...         ...      ...          ...      ...    ...   ...      ...   \n",
              "1455  1456          60       RL         62.0     7917   Pave   NaN      Reg   \n",
              "1456  1457          20       RL         85.0    13175   Pave   NaN      Reg   \n",
              "1457  1458          70       RL         66.0     9042   Pave   NaN      Reg   \n",
              "1458  1459          20       RL         68.0     9717   Pave   NaN      Reg   \n",
              "1459  1460          20       RL         75.0     9937   Pave   NaN      Reg   \n",
              "\n",
              "     LandContour Utilities  ... PoolArea PoolQC  Fence MiscFeature MiscVal  \\\n",
              "0            Lvl    AllPub  ...        0    NaN    NaN         NaN       0   \n",
              "1            Lvl    AllPub  ...        0    NaN    NaN         NaN       0   \n",
              "2            Lvl    AllPub  ...        0    NaN    NaN         NaN       0   \n",
              "3            Lvl    AllPub  ...        0    NaN    NaN         NaN       0   \n",
              "4            Lvl    AllPub  ...        0    NaN    NaN         NaN       0   \n",
              "...          ...       ...  ...      ...    ...    ...         ...     ...   \n",
              "1455         Lvl    AllPub  ...        0    NaN    NaN         NaN       0   \n",
              "1456         Lvl    AllPub  ...        0    NaN  MnPrv         NaN       0   \n",
              "1457         Lvl    AllPub  ...        0    NaN  GdPrv        Shed    2500   \n",
              "1458         Lvl    AllPub  ...        0    NaN    NaN         NaN       0   \n",
              "1459         Lvl    AllPub  ...        0    NaN    NaN         NaN       0   \n",
              "\n",
              "     MoSold YrSold  SaleType  SaleCondition  SalePrice  \n",
              "0         2   2008        WD         Normal     208500  \n",
              "1         5   2007        WD         Normal     181500  \n",
              "2         9   2008        WD         Normal     223500  \n",
              "3         2   2006        WD        Abnorml     140000  \n",
              "4        12   2008        WD         Normal     250000  \n",
              "...     ...    ...       ...            ...        ...  \n",
              "1455      8   2007        WD         Normal     175000  \n",
              "1456      2   2010        WD         Normal     210000  \n",
              "1457      5   2010        WD         Normal     266500  \n",
              "1458      4   2010        WD         Normal     142125  \n",
              "1459      6   2008        WD         Normal     147500  \n",
              "\n",
              "[1460 rows x 81 columns]"
            ],
            "text/html": [
              "\n",
              "  <div id=\"df-f2bb28be-c5aa-4610-a829-97d1d066b8bb\" class=\"colab-df-container\">\n",
              "    <div>\n",
              "<style scoped>\n",
              "    .dataframe tbody tr th:only-of-type {\n",
              "        vertical-align: middle;\n",
              "    }\n",
              "\n",
              "    .dataframe tbody tr th {\n",
              "        vertical-align: top;\n",
              "    }\n",
              "\n",
              "    .dataframe thead th {\n",
              "        text-align: right;\n",
              "    }\n",
              "</style>\n",
              "<table border=\"1\" class=\"dataframe\">\n",
              "  <thead>\n",
              "    <tr style=\"text-align: right;\">\n",
              "      <th></th>\n",
              "      <th>Id</th>\n",
              "      <th>MSSubClass</th>\n",
              "      <th>MSZoning</th>\n",
              "      <th>LotFrontage</th>\n",
              "      <th>LotArea</th>\n",
              "      <th>Street</th>\n",
              "      <th>Alley</th>\n",
              "      <th>LotShape</th>\n",
              "      <th>LandContour</th>\n",
              "      <th>Utilities</th>\n",
              "      <th>...</th>\n",
              "      <th>PoolArea</th>\n",
              "      <th>PoolQC</th>\n",
              "      <th>Fence</th>\n",
              "      <th>MiscFeature</th>\n",
              "      <th>MiscVal</th>\n",
              "      <th>MoSold</th>\n",
              "      <th>YrSold</th>\n",
              "      <th>SaleType</th>\n",
              "      <th>SaleCondition</th>\n",
              "      <th>SalePrice</th>\n",
              "    </tr>\n",
              "  </thead>\n",
              "  <tbody>\n",
              "    <tr>\n",
              "      <th>0</th>\n",
              "      <td>1</td>\n",
              "      <td>60</td>\n",
              "      <td>RL</td>\n",
              "      <td>65.0</td>\n",
              "      <td>8450</td>\n",
              "      <td>Pave</td>\n",
              "      <td>NaN</td>\n",
              "      <td>Reg</td>\n",
              "      <td>Lvl</td>\n",
              "      <td>AllPub</td>\n",
              "      <td>...</td>\n",
              "      <td>0</td>\n",
              "      <td>NaN</td>\n",
              "      <td>NaN</td>\n",
              "      <td>NaN</td>\n",
              "      <td>0</td>\n",
              "      <td>2</td>\n",
              "      <td>2008</td>\n",
              "      <td>WD</td>\n",
              "      <td>Normal</td>\n",
              "      <td>208500</td>\n",
              "    </tr>\n",
              "    <tr>\n",
              "      <th>1</th>\n",
              "      <td>2</td>\n",
              "      <td>20</td>\n",
              "      <td>RL</td>\n",
              "      <td>80.0</td>\n",
              "      <td>9600</td>\n",
              "      <td>Pave</td>\n",
              "      <td>NaN</td>\n",
              "      <td>Reg</td>\n",
              "      <td>Lvl</td>\n",
              "      <td>AllPub</td>\n",
              "      <td>...</td>\n",
              "      <td>0</td>\n",
              "      <td>NaN</td>\n",
              "      <td>NaN</td>\n",
              "      <td>NaN</td>\n",
              "      <td>0</td>\n",
              "      <td>5</td>\n",
              "      <td>2007</td>\n",
              "      <td>WD</td>\n",
              "      <td>Normal</td>\n",
              "      <td>181500</td>\n",
              "    </tr>\n",
              "    <tr>\n",
              "      <th>2</th>\n",
              "      <td>3</td>\n",
              "      <td>60</td>\n",
              "      <td>RL</td>\n",
              "      <td>68.0</td>\n",
              "      <td>11250</td>\n",
              "      <td>Pave</td>\n",
              "      <td>NaN</td>\n",
              "      <td>IR1</td>\n",
              "      <td>Lvl</td>\n",
              "      <td>AllPub</td>\n",
              "      <td>...</td>\n",
              "      <td>0</td>\n",
              "      <td>NaN</td>\n",
              "      <td>NaN</td>\n",
              "      <td>NaN</td>\n",
              "      <td>0</td>\n",
              "      <td>9</td>\n",
              "      <td>2008</td>\n",
              "      <td>WD</td>\n",
              "      <td>Normal</td>\n",
              "      <td>223500</td>\n",
              "    </tr>\n",
              "    <tr>\n",
              "      <th>3</th>\n",
              "      <td>4</td>\n",
              "      <td>70</td>\n",
              "      <td>RL</td>\n",
              "      <td>60.0</td>\n",
              "      <td>9550</td>\n",
              "      <td>Pave</td>\n",
              "      <td>NaN</td>\n",
              "      <td>IR1</td>\n",
              "      <td>Lvl</td>\n",
              "      <td>AllPub</td>\n",
              "      <td>...</td>\n",
              "      <td>0</td>\n",
              "      <td>NaN</td>\n",
              "      <td>NaN</td>\n",
              "      <td>NaN</td>\n",
              "      <td>0</td>\n",
              "      <td>2</td>\n",
              "      <td>2006</td>\n",
              "      <td>WD</td>\n",
              "      <td>Abnorml</td>\n",
              "      <td>140000</td>\n",
              "    </tr>\n",
              "    <tr>\n",
              "      <th>4</th>\n",
              "      <td>5</td>\n",
              "      <td>60</td>\n",
              "      <td>RL</td>\n",
              "      <td>84.0</td>\n",
              "      <td>14260</td>\n",
              "      <td>Pave</td>\n",
              "      <td>NaN</td>\n",
              "      <td>IR1</td>\n",
              "      <td>Lvl</td>\n",
              "      <td>AllPub</td>\n",
              "      <td>...</td>\n",
              "      <td>0</td>\n",
              "      <td>NaN</td>\n",
              "      <td>NaN</td>\n",
              "      <td>NaN</td>\n",
              "      <td>0</td>\n",
              "      <td>12</td>\n",
              "      <td>2008</td>\n",
              "      <td>WD</td>\n",
              "      <td>Normal</td>\n",
              "      <td>250000</td>\n",
              "    </tr>\n",
              "    <tr>\n",
              "      <th>...</th>\n",
              "      <td>...</td>\n",
              "      <td>...</td>\n",
              "      <td>...</td>\n",
              "      <td>...</td>\n",
              "      <td>...</td>\n",
              "      <td>...</td>\n",
              "      <td>...</td>\n",
              "      <td>...</td>\n",
              "      <td>...</td>\n",
              "      <td>...</td>\n",
              "      <td>...</td>\n",
              "      <td>...</td>\n",
              "      <td>...</td>\n",
              "      <td>...</td>\n",
              "      <td>...</td>\n",
              "      <td>...</td>\n",
              "      <td>...</td>\n",
              "      <td>...</td>\n",
              "      <td>...</td>\n",
              "      <td>...</td>\n",
              "      <td>...</td>\n",
              "    </tr>\n",
              "    <tr>\n",
              "      <th>1455</th>\n",
              "      <td>1456</td>\n",
              "      <td>60</td>\n",
              "      <td>RL</td>\n",
              "      <td>62.0</td>\n",
              "      <td>7917</td>\n",
              "      <td>Pave</td>\n",
              "      <td>NaN</td>\n",
              "      <td>Reg</td>\n",
              "      <td>Lvl</td>\n",
              "      <td>AllPub</td>\n",
              "      <td>...</td>\n",
              "      <td>0</td>\n",
              "      <td>NaN</td>\n",
              "      <td>NaN</td>\n",
              "      <td>NaN</td>\n",
              "      <td>0</td>\n",
              "      <td>8</td>\n",
              "      <td>2007</td>\n",
              "      <td>WD</td>\n",
              "      <td>Normal</td>\n",
              "      <td>175000</td>\n",
              "    </tr>\n",
              "    <tr>\n",
              "      <th>1456</th>\n",
              "      <td>1457</td>\n",
              "      <td>20</td>\n",
              "      <td>RL</td>\n",
              "      <td>85.0</td>\n",
              "      <td>13175</td>\n",
              "      <td>Pave</td>\n",
              "      <td>NaN</td>\n",
              "      <td>Reg</td>\n",
              "      <td>Lvl</td>\n",
              "      <td>AllPub</td>\n",
              "      <td>...</td>\n",
              "      <td>0</td>\n",
              "      <td>NaN</td>\n",
              "      <td>MnPrv</td>\n",
              "      <td>NaN</td>\n",
              "      <td>0</td>\n",
              "      <td>2</td>\n",
              "      <td>2010</td>\n",
              "      <td>WD</td>\n",
              "      <td>Normal</td>\n",
              "      <td>210000</td>\n",
              "    </tr>\n",
              "    <tr>\n",
              "      <th>1457</th>\n",
              "      <td>1458</td>\n",
              "      <td>70</td>\n",
              "      <td>RL</td>\n",
              "      <td>66.0</td>\n",
              "      <td>9042</td>\n",
              "      <td>Pave</td>\n",
              "      <td>NaN</td>\n",
              "      <td>Reg</td>\n",
              "      <td>Lvl</td>\n",
              "      <td>AllPub</td>\n",
              "      <td>...</td>\n",
              "      <td>0</td>\n",
              "      <td>NaN</td>\n",
              "      <td>GdPrv</td>\n",
              "      <td>Shed</td>\n",
              "      <td>2500</td>\n",
              "      <td>5</td>\n",
              "      <td>2010</td>\n",
              "      <td>WD</td>\n",
              "      <td>Normal</td>\n",
              "      <td>266500</td>\n",
              "    </tr>\n",
              "    <tr>\n",
              "      <th>1458</th>\n",
              "      <td>1459</td>\n",
              "      <td>20</td>\n",
              "      <td>RL</td>\n",
              "      <td>68.0</td>\n",
              "      <td>9717</td>\n",
              "      <td>Pave</td>\n",
              "      <td>NaN</td>\n",
              "      <td>Reg</td>\n",
              "      <td>Lvl</td>\n",
              "      <td>AllPub</td>\n",
              "      <td>...</td>\n",
              "      <td>0</td>\n",
              "      <td>NaN</td>\n",
              "      <td>NaN</td>\n",
              "      <td>NaN</td>\n",
              "      <td>0</td>\n",
              "      <td>4</td>\n",
              "      <td>2010</td>\n",
              "      <td>WD</td>\n",
              "      <td>Normal</td>\n",
              "      <td>142125</td>\n",
              "    </tr>\n",
              "    <tr>\n",
              "      <th>1459</th>\n",
              "      <td>1460</td>\n",
              "      <td>20</td>\n",
              "      <td>RL</td>\n",
              "      <td>75.0</td>\n",
              "      <td>9937</td>\n",
              "      <td>Pave</td>\n",
              "      <td>NaN</td>\n",
              "      <td>Reg</td>\n",
              "      <td>Lvl</td>\n",
              "      <td>AllPub</td>\n",
              "      <td>...</td>\n",
              "      <td>0</td>\n",
              "      <td>NaN</td>\n",
              "      <td>NaN</td>\n",
              "      <td>NaN</td>\n",
              "      <td>0</td>\n",
              "      <td>6</td>\n",
              "      <td>2008</td>\n",
              "      <td>WD</td>\n",
              "      <td>Normal</td>\n",
              "      <td>147500</td>\n",
              "    </tr>\n",
              "  </tbody>\n",
              "</table>\n",
              "<p>1460 rows × 81 columns</p>\n",
              "</div>\n",
              "    <div class=\"colab-df-buttons\">\n",
              "\n",
              "  <div class=\"colab-df-container\">\n",
              "    <button class=\"colab-df-convert\" onclick=\"convertToInteractive('df-f2bb28be-c5aa-4610-a829-97d1d066b8bb')\"\n",
              "            title=\"Convert this dataframe to an interactive table.\"\n",
              "            style=\"display:none;\">\n",
              "\n",
              "  <svg xmlns=\"http://www.w3.org/2000/svg\" height=\"24px\" viewBox=\"0 -960 960 960\">\n",
              "    <path d=\"M120-120v-720h720v720H120Zm60-500h600v-160H180v160Zm220 220h160v-160H400v160Zm0 220h160v-160H400v160ZM180-400h160v-160H180v160Zm440 0h160v-160H620v160ZM180-180h160v-160H180v160Zm440 0h160v-160H620v160Z\"/>\n",
              "  </svg>\n",
              "    </button>\n",
              "\n",
              "  <style>\n",
              "    .colab-df-container {\n",
              "      display:flex;\n",
              "      gap: 12px;\n",
              "    }\n",
              "\n",
              "    .colab-df-convert {\n",
              "      background-color: #E8F0FE;\n",
              "      border: none;\n",
              "      border-radius: 50%;\n",
              "      cursor: pointer;\n",
              "      display: none;\n",
              "      fill: #1967D2;\n",
              "      height: 32px;\n",
              "      padding: 0 0 0 0;\n",
              "      width: 32px;\n",
              "    }\n",
              "\n",
              "    .colab-df-convert:hover {\n",
              "      background-color: #E2EBFA;\n",
              "      box-shadow: 0px 1px 2px rgba(60, 64, 67, 0.3), 0px 1px 3px 1px rgba(60, 64, 67, 0.15);\n",
              "      fill: #174EA6;\n",
              "    }\n",
              "\n",
              "    .colab-df-buttons div {\n",
              "      margin-bottom: 4px;\n",
              "    }\n",
              "\n",
              "    [theme=dark] .colab-df-convert {\n",
              "      background-color: #3B4455;\n",
              "      fill: #D2E3FC;\n",
              "    }\n",
              "\n",
              "    [theme=dark] .colab-df-convert:hover {\n",
              "      background-color: #434B5C;\n",
              "      box-shadow: 0px 1px 3px 1px rgba(0, 0, 0, 0.15);\n",
              "      filter: drop-shadow(0px 1px 2px rgba(0, 0, 0, 0.3));\n",
              "      fill: #FFFFFF;\n",
              "    }\n",
              "  </style>\n",
              "\n",
              "    <script>\n",
              "      const buttonEl =\n",
              "        document.querySelector('#df-f2bb28be-c5aa-4610-a829-97d1d066b8bb button.colab-df-convert');\n",
              "      buttonEl.style.display =\n",
              "        google.colab.kernel.accessAllowed ? 'block' : 'none';\n",
              "\n",
              "      async function convertToInteractive(key) {\n",
              "        const element = document.querySelector('#df-f2bb28be-c5aa-4610-a829-97d1d066b8bb');\n",
              "        const dataTable =\n",
              "          await google.colab.kernel.invokeFunction('convertToInteractive',\n",
              "                                                    [key], {});\n",
              "        if (!dataTable) return;\n",
              "\n",
              "        const docLinkHtml = 'Like what you see? Visit the ' +\n",
              "          '<a target=\"_blank\" href=https://colab.research.google.com/notebooks/data_table.ipynb>data table notebook</a>'\n",
              "          + ' to learn more about interactive tables.';\n",
              "        element.innerHTML = '';\n",
              "        dataTable['output_type'] = 'display_data';\n",
              "        await google.colab.output.renderOutput(dataTable, element);\n",
              "        const docLink = document.createElement('div');\n",
              "        docLink.innerHTML = docLinkHtml;\n",
              "        element.appendChild(docLink);\n",
              "      }\n",
              "    </script>\n",
              "  </div>\n",
              "\n",
              "\n",
              "<div id=\"df-61ef7c8e-f134-41c9-9721-45b81ede1701\">\n",
              "  <button class=\"colab-df-quickchart\" onclick=\"quickchart('df-61ef7c8e-f134-41c9-9721-45b81ede1701')\"\n",
              "            title=\"Suggest charts\"\n",
              "            style=\"display:none;\">\n",
              "\n",
              "<svg xmlns=\"http://www.w3.org/2000/svg\" height=\"24px\"viewBox=\"0 0 24 24\"\n",
              "     width=\"24px\">\n",
              "    <g>\n",
              "        <path d=\"M19 3H5c-1.1 0-2 .9-2 2v14c0 1.1.9 2 2 2h14c1.1 0 2-.9 2-2V5c0-1.1-.9-2-2-2zM9 17H7v-7h2v7zm4 0h-2V7h2v10zm4 0h-2v-4h2v4z\"/>\n",
              "    </g>\n",
              "</svg>\n",
              "  </button>\n",
              "\n",
              "<style>\n",
              "  .colab-df-quickchart {\n",
              "      --bg-color: #E8F0FE;\n",
              "      --fill-color: #1967D2;\n",
              "      --hover-bg-color: #E2EBFA;\n",
              "      --hover-fill-color: #174EA6;\n",
              "      --disabled-fill-color: #AAA;\n",
              "      --disabled-bg-color: #DDD;\n",
              "  }\n",
              "\n",
              "  [theme=dark] .colab-df-quickchart {\n",
              "      --bg-color: #3B4455;\n",
              "      --fill-color: #D2E3FC;\n",
              "      --hover-bg-color: #434B5C;\n",
              "      --hover-fill-color: #FFFFFF;\n",
              "      --disabled-bg-color: #3B4455;\n",
              "      --disabled-fill-color: #666;\n",
              "  }\n",
              "\n",
              "  .colab-df-quickchart {\n",
              "    background-color: var(--bg-color);\n",
              "    border: none;\n",
              "    border-radius: 50%;\n",
              "    cursor: pointer;\n",
              "    display: none;\n",
              "    fill: var(--fill-color);\n",
              "    height: 32px;\n",
              "    padding: 0;\n",
              "    width: 32px;\n",
              "  }\n",
              "\n",
              "  .colab-df-quickchart:hover {\n",
              "    background-color: var(--hover-bg-color);\n",
              "    box-shadow: 0 1px 2px rgba(60, 64, 67, 0.3), 0 1px 3px 1px rgba(60, 64, 67, 0.15);\n",
              "    fill: var(--button-hover-fill-color);\n",
              "  }\n",
              "\n",
              "  .colab-df-quickchart-complete:disabled,\n",
              "  .colab-df-quickchart-complete:disabled:hover {\n",
              "    background-color: var(--disabled-bg-color);\n",
              "    fill: var(--disabled-fill-color);\n",
              "    box-shadow: none;\n",
              "  }\n",
              "\n",
              "  .colab-df-spinner {\n",
              "    border: 2px solid var(--fill-color);\n",
              "    border-color: transparent;\n",
              "    border-bottom-color: var(--fill-color);\n",
              "    animation:\n",
              "      spin 1s steps(1) infinite;\n",
              "  }\n",
              "\n",
              "  @keyframes spin {\n",
              "    0% {\n",
              "      border-color: transparent;\n",
              "      border-bottom-color: var(--fill-color);\n",
              "      border-left-color: var(--fill-color);\n",
              "    }\n",
              "    20% {\n",
              "      border-color: transparent;\n",
              "      border-left-color: var(--fill-color);\n",
              "      border-top-color: var(--fill-color);\n",
              "    }\n",
              "    30% {\n",
              "      border-color: transparent;\n",
              "      border-left-color: var(--fill-color);\n",
              "      border-top-color: var(--fill-color);\n",
              "      border-right-color: var(--fill-color);\n",
              "    }\n",
              "    40% {\n",
              "      border-color: transparent;\n",
              "      border-right-color: var(--fill-color);\n",
              "      border-top-color: var(--fill-color);\n",
              "    }\n",
              "    60% {\n",
              "      border-color: transparent;\n",
              "      border-right-color: var(--fill-color);\n",
              "    }\n",
              "    80% {\n",
              "      border-color: transparent;\n",
              "      border-right-color: var(--fill-color);\n",
              "      border-bottom-color: var(--fill-color);\n",
              "    }\n",
              "    90% {\n",
              "      border-color: transparent;\n",
              "      border-bottom-color: var(--fill-color);\n",
              "    }\n",
              "  }\n",
              "</style>\n",
              "\n",
              "  <script>\n",
              "    async function quickchart(key) {\n",
              "      const quickchartButtonEl =\n",
              "        document.querySelector('#' + key + ' button');\n",
              "      quickchartButtonEl.disabled = true;  // To prevent multiple clicks.\n",
              "      quickchartButtonEl.classList.add('colab-df-spinner');\n",
              "      try {\n",
              "        const charts = await google.colab.kernel.invokeFunction(\n",
              "            'suggestCharts', [key], {});\n",
              "      } catch (error) {\n",
              "        console.error('Error during call to suggestCharts:', error);\n",
              "      }\n",
              "      quickchartButtonEl.classList.remove('colab-df-spinner');\n",
              "      quickchartButtonEl.classList.add('colab-df-quickchart-complete');\n",
              "    }\n",
              "    (() => {\n",
              "      let quickchartButtonEl =\n",
              "        document.querySelector('#df-61ef7c8e-f134-41c9-9721-45b81ede1701 button');\n",
              "      quickchartButtonEl.style.display =\n",
              "        google.colab.kernel.accessAllowed ? 'block' : 'none';\n",
              "    })();\n",
              "  </script>\n",
              "</div>\n",
              "    </div>\n",
              "  </div>\n"
            ],
            "application/vnd.google.colaboratory.intrinsic+json": {
              "type": "dataframe",
              "variable_name": "data"
            }
          },
          "metadata": {}
        }
      ]
    },
    {
      "cell_type": "markdown",
      "source": [
        "- SalePrice - harga jual properti dalam dolar. Ini adalah variabel target yang ingin Anda prediksi.\n",
        "- MSSubClass: Kelas bangunan\n",
        "- MSZoning: Klasifikasi zonasi umum\n",
        "- LotFrontage: Kaki jalan linier yang terhubung ke properti\n",
        "- LotArea: Ukuran lot dalam kaki persegi\n",
        "- Street: Jenis akses jalan\n",
        "- Alley: Jenis akses gang\n",
        "- LotShape: Bentuk umum properti\n",
        "- LandContour: Kerataan properti\n",
        "- Utilites: Jenis utilitas yang tersedia\n",
        "- LotConfig: Konfigurasi banyak\n",
        "- LandSlope: Kemiringan properti\n",
        "- Neighborhood: Lokasi fisik dalam batas kota Ames\n",
        "- Condition 1: Dekat dengan jalan utama atau rel kereta api\n",
        "- Condition 2: Dekat dengan jalan utama atau rel kereta api (jika ada yang kedua)\n",
        "- BldgType: Tipe hunian\n",
        "- HouseStyle: Gaya hunian\n",
        "- OverallQual: Keseluruhan material dan kualitas hasil akhir\n",
        "- OverallCond: Peringkat kondisi keseluruhan\n",
        "- YearBuilt: Tanggal konstruksi asli\n",
        "- YearRemodAdd: Tanggal perombakan\n",
        "- RoofStyle: Jenis atap\n",
        "- RoofMatl : Bahan atap\n",
        "- Exterior1st: Penutup eksterior pada rumah\n",
        "- Exterior2nd: Penutup eksterior pada rumah (jika lebih dari satu bahan)\n",
        "- MasVnrType: Jenis veneer pasangan bata\n",
        "- MasVnrArea: Area veneer batu dalam kaki persegi\n",
        "- ExterQual: Kualitas material eksterior\n",
        "- ExterCond: Kondisi material eksterior saat ini\n",
        "- Pondasi: Jenis pondasi\n",
        "- BsmtQual : Ketinggian basement\n",
        "- BsmtCond : Kondisi umum basement\n",
        "- BsmtExposure: Dinding basement walkout atau tingkat taman\n",
        "- BsmtFinType1: Kualitas area basement jadi\n",
        "- BsmtFinSF1: Tipe 1 kaki persegi jadi\n",
        "- BsmtFinType2: Kualitas area jadi kedua (jika ada)\n",
        "- BsmtFinSF2: Tipe 2 kaki persegi jadi\n",
        "- BsmtUnfSF: Area basement seluas satu kaki persegi yang belum selesai\n",
        "- TotalBsmtSF: Total kaki persegi luas basement\n",
        "- Heating: Jenis pemanasan\n",
        "- HeatingQC: Kualitas dan kondisi pemanasan\n",
        "- CentralAir: AC sentral\n",
        "- Elictrical: Sistem kelistrikan\n",
        "- 1stFlrSF: Kaki persegi Lantai Pertama\n",
        "- 2ndFlrSF: Lantai dua kaki persegi\n",
        "- LowQualFinSF: Kaki persegi jadi berkualitas rendah (semua lantai)\n",
        "- GrLivArea: Kaki persegi ruang tamu di atas permukaan tanah (tanah).\n",
        "- BsmtFullBath: Kamar mandi lengkap di ruang bawah tanah\n",
        "- BsmtHalfBath: Setengah kamar mandi bawah tanah\n",
        "- FullBath: Kamar mandi lengkap di atas kelas\n",
        "- HalfBath: Setengah kamar mandi di atas kelas\n",
        "- Bedroom: Jumlah kamar tidur di atas lantai basement\n",
        "- Kitchen: Jumlah dapur\n",
        "- KitchenQual : Kualitas dapur\n",
        "- TotRmsAbvGrd : Total kamar diatas kelas (tidak termasuk kamar mandi)\n",
        "- Functional: Peringkat fungsionalitas rumah\n",
        "- Fireplaces: Jumlah perapian\n",
        "- FireplaceQu: Kualitas perapian\n",
        "- GarageType: Lokasi garasi\n",
        "- GarageYrBlt: Tahun garasi dibangun\n",
        "- GarageFinish: Finishing interior garasi\n",
        "- GarageCars: Ukuran garasi dalam kapasitas mobil\n",
        "- GarageArea: Ukuran garasi dalam kaki persegi\n",
        " GarageQual: Kualitas garasi\n",
        "- GarageCond: Kondisi garasi\n",
        "- PavedDrive: Jalan masuk beraspal\n",
        "- WoodDeckSF: Luas dek kayu dalam kaki persegi\n",
        "- OpenPorchSF: Area teras terbuka dalam satuan kaki persegi\n",
        "- EnclosedPorch: Area teras tertutup dalam ukuran kaki persegi\n",
        "- 3SsnPorch: Area teras tiga musim dalam kaki persegi\n",
        "- ScreenPorch: Area teras layar dalam kaki persegi\n",
        "- PoolArea: Area kolam dalam kaki persegi\n",
        "- PoolQC: Kualitas kolam\n",
        "- Fence: Kualitas pagar\n",
        "- MiscFeature: Fitur lain-lain yang tidak tercakup dalam kategori lain\n",
        "- MiscVal: $Nilai fitur lain-lain\n",
        "- MoSold: Bulan Terjual\n",
        "- YrSold: Tahun Terjual\n",
        "- SaleType: Jenis penjualan\n",
        "- SaleCondition: Kondisi penjualan"
      ],
      "metadata": {
        "id": "0dCr-5ahAq0l"
      }
    },
    {
      "cell_type": "markdown",
      "source": [
        "## Missing Value"
      ],
      "metadata": {
        "id": "sF2zZU3TE6Ju"
      }
    },
    {
      "cell_type": "code",
      "source": [
        "data.info()"
      ],
      "metadata": {
        "id": "PLCik6LlC1el",
        "colab": {
          "base_uri": "https://localhost:8080/"
        },
        "outputId": "bb05171e-f396-4fd9-ced3-4a934bd53a68"
      },
      "execution_count": 64,
      "outputs": [
        {
          "output_type": "stream",
          "name": "stdout",
          "text": [
            "<class 'pandas.core.frame.DataFrame'>\n",
            "RangeIndex: 1460 entries, 0 to 1459\n",
            "Data columns (total 91 columns):\n",
            " #   Column               Non-Null Count  Dtype  \n",
            "---  ------               --------------  -----  \n",
            " 0   Id                   1460 non-null   int64  \n",
            " 1   MSSubClass           1460 non-null   int64  \n",
            " 2   MSZoning             1460 non-null   object \n",
            " 3   LotFrontage          1201 non-null   float64\n",
            " 4   LotArea              1460 non-null   int64  \n",
            " 5   Street               1460 non-null   object \n",
            " 6   Alley                91 non-null     object \n",
            " 7   LotShape             1460 non-null   object \n",
            " 8   LandContour          1460 non-null   object \n",
            " 9   Utilities            1460 non-null   object \n",
            " 10  LotConfig            1460 non-null   object \n",
            " 11  LandSlope            1460 non-null   object \n",
            " 12  Neighborhood         1460 non-null   object \n",
            " 13  Condition1           1460 non-null   object \n",
            " 14  Condition2           1460 non-null   object \n",
            " 15  BldgType             1460 non-null   object \n",
            " 16  HouseStyle           1460 non-null   object \n",
            " 17  OverallQual          1460 non-null   int64  \n",
            " 18  OverallCond          1460 non-null   int64  \n",
            " 19  YearBuilt            1460 non-null   int64  \n",
            " 20  YearRemodAdd         1460 non-null   int64  \n",
            " 21  RoofStyle            1460 non-null   object \n",
            " 22  RoofMatl             1460 non-null   object \n",
            " 23  Exterior1st          1460 non-null   object \n",
            " 24  Exterior2nd          1460 non-null   object \n",
            " 25  MasVnrType           1452 non-null   object \n",
            " 26  MasVnrArea           1452 non-null   float64\n",
            " 27  ExterQual            1460 non-null   int64  \n",
            " 28  ExterCond            1460 non-null   int64  \n",
            " 29  Foundation           1460 non-null   object \n",
            " 30  BsmtQual             1423 non-null   object \n",
            " 31  BsmtCond             1423 non-null   object \n",
            " 32  BsmtExposure         1422 non-null   object \n",
            " 33  BsmtFinType1         1423 non-null   object \n",
            " 34  BsmtFinSF1           1460 non-null   int64  \n",
            " 35  BsmtFinType2         1422 non-null   object \n",
            " 36  BsmtFinSF2           1460 non-null   int64  \n",
            " 37  BsmtUnfSF            1460 non-null   int64  \n",
            " 38  TotalBsmtSF          1460 non-null   int64  \n",
            " 39  Heating              1460 non-null   object \n",
            " 40  HeatingQC            1460 non-null   object \n",
            " 41  CentralAir           1460 non-null   object \n",
            " 42  Electrical           1459 non-null   object \n",
            " 43  1stFlrSF             1460 non-null   int64  \n",
            " 44  2ndFlrSF             1460 non-null   int64  \n",
            " 45  LowQualFinSF         1460 non-null   int64  \n",
            " 46  GrLivArea            1460 non-null   int64  \n",
            " 47  BsmtFullBath         1460 non-null   int64  \n",
            " 48  BsmtHalfBath         1460 non-null   int64  \n",
            " 49  FullBath             1460 non-null   int64  \n",
            " 50  HalfBath             1460 non-null   int64  \n",
            " 51  BedroomAbvGr         1460 non-null   int64  \n",
            " 52  KitchenAbvGr         1460 non-null   int64  \n",
            " 53  KitchenQual          1460 non-null   object \n",
            " 54  TotRmsAbvGrd         1460 non-null   int64  \n",
            " 55  Functional           1460 non-null   object \n",
            " 56  Fireplaces           1460 non-null   int64  \n",
            " 57  FireplaceQu          770 non-null    object \n",
            " 58  GarageType           1379 non-null   object \n",
            " 59  GarageYrBlt          1379 non-null   float64\n",
            " 60  GarageFinish         1379 non-null   object \n",
            " 61  GarageCars           1460 non-null   int64  \n",
            " 62  GarageArea           1460 non-null   int64  \n",
            " 63  GarageQual           1379 non-null   float64\n",
            " 64  GarageCond           1379 non-null   float64\n",
            " 65  PavedDrive           1460 non-null   object \n",
            " 66  WoodDeckSF           1460 non-null   int64  \n",
            " 67  OpenPorchSF          1460 non-null   int64  \n",
            " 68  EnclosedPorch        1460 non-null   int64  \n",
            " 69  3SsnPorch            1460 non-null   int64  \n",
            " 70  ScreenPorch          1460 non-null   int64  \n",
            " 71  PoolArea             1460 non-null   int64  \n",
            " 72  PoolQC               7 non-null      object \n",
            " 73  Fence                281 non-null    object \n",
            " 74  MiscFeature          54 non-null     object \n",
            " 75  MiscVal              1460 non-null   int64  \n",
            " 76  MoSold               1460 non-null   int64  \n",
            " 77  YrSold               1460 non-null   int64  \n",
            " 78  SaleType             1460 non-null   object \n",
            " 79  SaleCondition        1460 non-null   object \n",
            " 80  SalePrice            1460 non-null   int64  \n",
            " 81  TotalLuasBangunan    1460 non-null   int64  \n",
            " 82  UsiaBangunan         1460 non-null   int64  \n",
            " 83  JumlahKamarMandi     1460 non-null   int64  \n",
            " 84  TotalLuasTeras       1460 non-null   int64  \n",
            " 85  RatingKualitasRumah  1460 non-null   float64\n",
            " 86  TotalRuangan         1460 non-null   int64  \n",
            " 87  KondisiGarasi        1321 non-null   object \n",
            " 88  LuasOutdoorArea      1460 non-null   int64  \n",
            " 89  QualityExterior      1460 non-null   object \n",
            " 90  RemodYears           1460 non-null   int64  \n",
            "dtypes: float64(6), int64(44), object(41)\n",
            "memory usage: 1.0+ MB\n"
          ]
        }
      ]
    },
    {
      "cell_type": "markdown",
      "source": [
        "Total data yang seharusnya ada adalah 1460. Dalam data ini terdapat beberapa kolom yang datanya Missing. Diantaranya adalah :\n",
        "- LotFrontage : 259 Data Missing Value\n",
        "- Alley : 1369 Data Missing Value\n",
        "- MasVnrType : 8 Data Missing Value\n",
        "- MasVnrArea : 8 Data Missing Value\n",
        "- BsmtQual : 37 Data Missing Value\n",
        "- BsmtCond : 37 Data Missing Value\n",
        "- BsmtExposure : 38 Data Missing Value\n",
        "- BsmtFinType1 : 37 Data Missing Value\n",
        "- BsmtFinType2 : 38 Data Missing Value\n",
        "- Electrical : 1 Data Missing Value\n",
        "- FireplaceQu : 690 Data Missing Value\n",
        "- GarageType : 81 Data Missing Value\n",
        "- GarageYrBlt : 81 Data Missing Value\n",
        "- GarageFinish : 81 Data Missing Value\n",
        "- GarageQual : 81 Data Missing Value\n",
        "- GarageCond : 81 Data Missing Value\n",
        "- PoolQC : 1453 Data Missing Value\n",
        "- Fence : 1179 Data Missing Value\n",
        "- MiscFeature : 1406 Data Missing Value"
      ],
      "metadata": {
        "id": "prXEBPXaFHZs"
      }
    },
    {
      "cell_type": "markdown",
      "source": [
        "Ketentuan apabila data Missing Value <= 10% maka baris yang ,mengandung Missing Value akan dihapus\n",
        "Jika kolom memiliki Missing Value yang sangat banyak maka kolom akan dihapus\n",
        "Jika kolom memiliki missinh value yang lumayan banyak tetapi kolom tersebut dipakai untuk membuat feature baru maka akan diisi nilai Mean dari kolom tersebut"
      ],
      "metadata": {
        "id": "m9XK-Pdzrgyr"
      }
    },
    {
      "cell_type": "code",
      "source": [],
      "metadata": {
        "id": "QW1LLPbtwv6M"
      },
      "execution_count": null,
      "outputs": []
    },
    {
      "cell_type": "code",
      "source": [
        "data[\"OverallCond\"]"
      ],
      "metadata": {
        "colab": {
          "base_uri": "https://localhost:8080/"
        },
        "id": "8d8siRAZdqmW",
        "outputId": "9a7f39eb-d761-430b-e586-d8aef5184c85"
      },
      "execution_count": null,
      "outputs": [
        {
          "output_type": "execute_result",
          "data": {
            "text/plain": [
              "0       5\n",
              "1       8\n",
              "2       5\n",
              "3       5\n",
              "4       5\n",
              "       ..\n",
              "1455    5\n",
              "1456    6\n",
              "1457    9\n",
              "1458    6\n",
              "1459    6\n",
              "Name: OverallCond, Length: 1460, dtype: int64"
            ]
          },
          "metadata": {},
          "execution_count": 4
        }
      ]
    },
    {
      "cell_type": "code",
      "source": [
        "data.describe()"
      ],
      "metadata": {
        "id": "UOyXm6NMDGN9",
        "colab": {
          "base_uri": "https://localhost:8080/",
          "height": 350
        },
        "outputId": "4c492a18-788d-43da-c82e-58beffdd6c44"
      },
      "execution_count": null,
      "outputs": [
        {
          "output_type": "execute_result",
          "data": {
            "text/plain": [
              "                Id   MSSubClass  LotFrontage        LotArea  OverallQual  \\\n",
              "count  1460.000000  1460.000000  1201.000000    1460.000000  1460.000000   \n",
              "mean    730.500000    56.897260    70.049958   10516.828082     6.099315   \n",
              "std     421.610009    42.300571    24.284752    9981.264932     1.382997   \n",
              "min       1.000000    20.000000    21.000000    1300.000000     1.000000   \n",
              "25%     365.750000    20.000000    59.000000    7553.500000     5.000000   \n",
              "50%     730.500000    50.000000    69.000000    9478.500000     6.000000   \n",
              "75%    1095.250000    70.000000    80.000000   11601.500000     7.000000   \n",
              "max    1460.000000   190.000000   313.000000  215245.000000    10.000000   \n",
              "\n",
              "       OverallCond    YearBuilt  YearRemodAdd   MasVnrArea   BsmtFinSF1  ...  \\\n",
              "count  1460.000000  1460.000000   1460.000000  1452.000000  1460.000000  ...   \n",
              "mean      5.575342  1971.267808   1984.865753   103.685262   443.639726  ...   \n",
              "std       1.112799    30.202904     20.645407   181.066207   456.098091  ...   \n",
              "min       1.000000  1872.000000   1950.000000     0.000000     0.000000  ...   \n",
              "25%       5.000000  1954.000000   1967.000000     0.000000     0.000000  ...   \n",
              "50%       5.000000  1973.000000   1994.000000     0.000000   383.500000  ...   \n",
              "75%       6.000000  2000.000000   2004.000000   166.000000   712.250000  ...   \n",
              "max       9.000000  2010.000000   2010.000000  1600.000000  5644.000000  ...   \n",
              "\n",
              "          PoolArea       MiscVal       MoSold       YrSold      SalePrice  \\\n",
              "count  1460.000000   1460.000000  1460.000000  1460.000000    1460.000000   \n",
              "mean      2.758904     43.489041     6.321918  2007.815753  180921.195890   \n",
              "std      40.177307    496.123024     2.703626     1.328095   79442.502883   \n",
              "min       0.000000      0.000000     1.000000  2006.000000   34900.000000   \n",
              "25%       0.000000      0.000000     5.000000  2007.000000  129975.000000   \n",
              "50%       0.000000      0.000000     6.000000  2008.000000  163000.000000   \n",
              "75%       0.000000      0.000000     8.000000  2009.000000  214000.000000   \n",
              "max     738.000000  15500.000000    12.000000  2010.000000  755000.000000   \n",
              "\n",
              "       TotalLuasBangunan  UsiaBangunan  JumlahKamarMandi  TotalLuasTeras  \\\n",
              "count        1460.000000   1460.000000       1460.000000     1460.000000   \n",
              "mean         2567.048630     36.547945          1.947945      181.329452   \n",
              "std           821.714421     30.250152          0.794965      156.656097   \n",
              "min           334.000000      0.000000          0.000000        0.000000   \n",
              "25%          2009.500000      8.000000          1.000000       45.000000   \n",
              "50%          2474.000000     35.000000          2.000000      164.000000   \n",
              "75%          3004.000000     54.000000          3.000000      266.000000   \n",
              "max         11752.000000    136.000000          4.000000     1027.000000   \n",
              "\n",
              "       RatingKualitasRumah  \n",
              "count          1460.000000  \n",
              "mean              5.837329  \n",
              "std               0.846764  \n",
              "min               1.000000  \n",
              "25%               5.500000  \n",
              "50%               6.000000  \n",
              "75%               6.500000  \n",
              "max               9.500000  \n",
              "\n",
              "[8 rows x 43 columns]"
            ],
            "text/html": [
              "\n",
              "  <div id=\"df-01b9e7e3-85b9-4ab2-9cbe-3bb2addecfb4\" class=\"colab-df-container\">\n",
              "    <div>\n",
              "<style scoped>\n",
              "    .dataframe tbody tr th:only-of-type {\n",
              "        vertical-align: middle;\n",
              "    }\n",
              "\n",
              "    .dataframe tbody tr th {\n",
              "        vertical-align: top;\n",
              "    }\n",
              "\n",
              "    .dataframe thead th {\n",
              "        text-align: right;\n",
              "    }\n",
              "</style>\n",
              "<table border=\"1\" class=\"dataframe\">\n",
              "  <thead>\n",
              "    <tr style=\"text-align: right;\">\n",
              "      <th></th>\n",
              "      <th>Id</th>\n",
              "      <th>MSSubClass</th>\n",
              "      <th>LotFrontage</th>\n",
              "      <th>LotArea</th>\n",
              "      <th>OverallQual</th>\n",
              "      <th>OverallCond</th>\n",
              "      <th>YearBuilt</th>\n",
              "      <th>YearRemodAdd</th>\n",
              "      <th>MasVnrArea</th>\n",
              "      <th>BsmtFinSF1</th>\n",
              "      <th>...</th>\n",
              "      <th>PoolArea</th>\n",
              "      <th>MiscVal</th>\n",
              "      <th>MoSold</th>\n",
              "      <th>YrSold</th>\n",
              "      <th>SalePrice</th>\n",
              "      <th>TotalLuasBangunan</th>\n",
              "      <th>UsiaBangunan</th>\n",
              "      <th>JumlahKamarMandi</th>\n",
              "      <th>TotalLuasTeras</th>\n",
              "      <th>RatingKualitasRumah</th>\n",
              "    </tr>\n",
              "  </thead>\n",
              "  <tbody>\n",
              "    <tr>\n",
              "      <th>count</th>\n",
              "      <td>1460.000000</td>\n",
              "      <td>1460.000000</td>\n",
              "      <td>1201.000000</td>\n",
              "      <td>1460.000000</td>\n",
              "      <td>1460.000000</td>\n",
              "      <td>1460.000000</td>\n",
              "      <td>1460.000000</td>\n",
              "      <td>1460.000000</td>\n",
              "      <td>1452.000000</td>\n",
              "      <td>1460.000000</td>\n",
              "      <td>...</td>\n",
              "      <td>1460.000000</td>\n",
              "      <td>1460.000000</td>\n",
              "      <td>1460.000000</td>\n",
              "      <td>1460.000000</td>\n",
              "      <td>1460.000000</td>\n",
              "      <td>1460.000000</td>\n",
              "      <td>1460.000000</td>\n",
              "      <td>1460.000000</td>\n",
              "      <td>1460.000000</td>\n",
              "      <td>1460.000000</td>\n",
              "    </tr>\n",
              "    <tr>\n",
              "      <th>mean</th>\n",
              "      <td>730.500000</td>\n",
              "      <td>56.897260</td>\n",
              "      <td>70.049958</td>\n",
              "      <td>10516.828082</td>\n",
              "      <td>6.099315</td>\n",
              "      <td>5.575342</td>\n",
              "      <td>1971.267808</td>\n",
              "      <td>1984.865753</td>\n",
              "      <td>103.685262</td>\n",
              "      <td>443.639726</td>\n",
              "      <td>...</td>\n",
              "      <td>2.758904</td>\n",
              "      <td>43.489041</td>\n",
              "      <td>6.321918</td>\n",
              "      <td>2007.815753</td>\n",
              "      <td>180921.195890</td>\n",
              "      <td>2567.048630</td>\n",
              "      <td>36.547945</td>\n",
              "      <td>1.947945</td>\n",
              "      <td>181.329452</td>\n",
              "      <td>5.837329</td>\n",
              "    </tr>\n",
              "    <tr>\n",
              "      <th>std</th>\n",
              "      <td>421.610009</td>\n",
              "      <td>42.300571</td>\n",
              "      <td>24.284752</td>\n",
              "      <td>9981.264932</td>\n",
              "      <td>1.382997</td>\n",
              "      <td>1.112799</td>\n",
              "      <td>30.202904</td>\n",
              "      <td>20.645407</td>\n",
              "      <td>181.066207</td>\n",
              "      <td>456.098091</td>\n",
              "      <td>...</td>\n",
              "      <td>40.177307</td>\n",
              "      <td>496.123024</td>\n",
              "      <td>2.703626</td>\n",
              "      <td>1.328095</td>\n",
              "      <td>79442.502883</td>\n",
              "      <td>821.714421</td>\n",
              "      <td>30.250152</td>\n",
              "      <td>0.794965</td>\n",
              "      <td>156.656097</td>\n",
              "      <td>0.846764</td>\n",
              "    </tr>\n",
              "    <tr>\n",
              "      <th>min</th>\n",
              "      <td>1.000000</td>\n",
              "      <td>20.000000</td>\n",
              "      <td>21.000000</td>\n",
              "      <td>1300.000000</td>\n",
              "      <td>1.000000</td>\n",
              "      <td>1.000000</td>\n",
              "      <td>1872.000000</td>\n",
              "      <td>1950.000000</td>\n",
              "      <td>0.000000</td>\n",
              "      <td>0.000000</td>\n",
              "      <td>...</td>\n",
              "      <td>0.000000</td>\n",
              "      <td>0.000000</td>\n",
              "      <td>1.000000</td>\n",
              "      <td>2006.000000</td>\n",
              "      <td>34900.000000</td>\n",
              "      <td>334.000000</td>\n",
              "      <td>0.000000</td>\n",
              "      <td>0.000000</td>\n",
              "      <td>0.000000</td>\n",
              "      <td>1.000000</td>\n",
              "    </tr>\n",
              "    <tr>\n",
              "      <th>25%</th>\n",
              "      <td>365.750000</td>\n",
              "      <td>20.000000</td>\n",
              "      <td>59.000000</td>\n",
              "      <td>7553.500000</td>\n",
              "      <td>5.000000</td>\n",
              "      <td>5.000000</td>\n",
              "      <td>1954.000000</td>\n",
              "      <td>1967.000000</td>\n",
              "      <td>0.000000</td>\n",
              "      <td>0.000000</td>\n",
              "      <td>...</td>\n",
              "      <td>0.000000</td>\n",
              "      <td>0.000000</td>\n",
              "      <td>5.000000</td>\n",
              "      <td>2007.000000</td>\n",
              "      <td>129975.000000</td>\n",
              "      <td>2009.500000</td>\n",
              "      <td>8.000000</td>\n",
              "      <td>1.000000</td>\n",
              "      <td>45.000000</td>\n",
              "      <td>5.500000</td>\n",
              "    </tr>\n",
              "    <tr>\n",
              "      <th>50%</th>\n",
              "      <td>730.500000</td>\n",
              "      <td>50.000000</td>\n",
              "      <td>69.000000</td>\n",
              "      <td>9478.500000</td>\n",
              "      <td>6.000000</td>\n",
              "      <td>5.000000</td>\n",
              "      <td>1973.000000</td>\n",
              "      <td>1994.000000</td>\n",
              "      <td>0.000000</td>\n",
              "      <td>383.500000</td>\n",
              "      <td>...</td>\n",
              "      <td>0.000000</td>\n",
              "      <td>0.000000</td>\n",
              "      <td>6.000000</td>\n",
              "      <td>2008.000000</td>\n",
              "      <td>163000.000000</td>\n",
              "      <td>2474.000000</td>\n",
              "      <td>35.000000</td>\n",
              "      <td>2.000000</td>\n",
              "      <td>164.000000</td>\n",
              "      <td>6.000000</td>\n",
              "    </tr>\n",
              "    <tr>\n",
              "      <th>75%</th>\n",
              "      <td>1095.250000</td>\n",
              "      <td>70.000000</td>\n",
              "      <td>80.000000</td>\n",
              "      <td>11601.500000</td>\n",
              "      <td>7.000000</td>\n",
              "      <td>6.000000</td>\n",
              "      <td>2000.000000</td>\n",
              "      <td>2004.000000</td>\n",
              "      <td>166.000000</td>\n",
              "      <td>712.250000</td>\n",
              "      <td>...</td>\n",
              "      <td>0.000000</td>\n",
              "      <td>0.000000</td>\n",
              "      <td>8.000000</td>\n",
              "      <td>2009.000000</td>\n",
              "      <td>214000.000000</td>\n",
              "      <td>3004.000000</td>\n",
              "      <td>54.000000</td>\n",
              "      <td>3.000000</td>\n",
              "      <td>266.000000</td>\n",
              "      <td>6.500000</td>\n",
              "    </tr>\n",
              "    <tr>\n",
              "      <th>max</th>\n",
              "      <td>1460.000000</td>\n",
              "      <td>190.000000</td>\n",
              "      <td>313.000000</td>\n",
              "      <td>215245.000000</td>\n",
              "      <td>10.000000</td>\n",
              "      <td>9.000000</td>\n",
              "      <td>2010.000000</td>\n",
              "      <td>2010.000000</td>\n",
              "      <td>1600.000000</td>\n",
              "      <td>5644.000000</td>\n",
              "      <td>...</td>\n",
              "      <td>738.000000</td>\n",
              "      <td>15500.000000</td>\n",
              "      <td>12.000000</td>\n",
              "      <td>2010.000000</td>\n",
              "      <td>755000.000000</td>\n",
              "      <td>11752.000000</td>\n",
              "      <td>136.000000</td>\n",
              "      <td>4.000000</td>\n",
              "      <td>1027.000000</td>\n",
              "      <td>9.500000</td>\n",
              "    </tr>\n",
              "  </tbody>\n",
              "</table>\n",
              "<p>8 rows × 43 columns</p>\n",
              "</div>\n",
              "    <div class=\"colab-df-buttons\">\n",
              "\n",
              "  <div class=\"colab-df-container\">\n",
              "    <button class=\"colab-df-convert\" onclick=\"convertToInteractive('df-01b9e7e3-85b9-4ab2-9cbe-3bb2addecfb4')\"\n",
              "            title=\"Convert this dataframe to an interactive table.\"\n",
              "            style=\"display:none;\">\n",
              "\n",
              "  <svg xmlns=\"http://www.w3.org/2000/svg\" height=\"24px\" viewBox=\"0 -960 960 960\">\n",
              "    <path d=\"M120-120v-720h720v720H120Zm60-500h600v-160H180v160Zm220 220h160v-160H400v160Zm0 220h160v-160H400v160ZM180-400h160v-160H180v160Zm440 0h160v-160H620v160ZM180-180h160v-160H180v160Zm440 0h160v-160H620v160Z\"/>\n",
              "  </svg>\n",
              "    </button>\n",
              "\n",
              "  <style>\n",
              "    .colab-df-container {\n",
              "      display:flex;\n",
              "      gap: 12px;\n",
              "    }\n",
              "\n",
              "    .colab-df-convert {\n",
              "      background-color: #E8F0FE;\n",
              "      border: none;\n",
              "      border-radius: 50%;\n",
              "      cursor: pointer;\n",
              "      display: none;\n",
              "      fill: #1967D2;\n",
              "      height: 32px;\n",
              "      padding: 0 0 0 0;\n",
              "      width: 32px;\n",
              "    }\n",
              "\n",
              "    .colab-df-convert:hover {\n",
              "      background-color: #E2EBFA;\n",
              "      box-shadow: 0px 1px 2px rgba(60, 64, 67, 0.3), 0px 1px 3px 1px rgba(60, 64, 67, 0.15);\n",
              "      fill: #174EA6;\n",
              "    }\n",
              "\n",
              "    .colab-df-buttons div {\n",
              "      margin-bottom: 4px;\n",
              "    }\n",
              "\n",
              "    [theme=dark] .colab-df-convert {\n",
              "      background-color: #3B4455;\n",
              "      fill: #D2E3FC;\n",
              "    }\n",
              "\n",
              "    [theme=dark] .colab-df-convert:hover {\n",
              "      background-color: #434B5C;\n",
              "      box-shadow: 0px 1px 3px 1px rgba(0, 0, 0, 0.15);\n",
              "      filter: drop-shadow(0px 1px 2px rgba(0, 0, 0, 0.3));\n",
              "      fill: #FFFFFF;\n",
              "    }\n",
              "  </style>\n",
              "\n",
              "    <script>\n",
              "      const buttonEl =\n",
              "        document.querySelector('#df-01b9e7e3-85b9-4ab2-9cbe-3bb2addecfb4 button.colab-df-convert');\n",
              "      buttonEl.style.display =\n",
              "        google.colab.kernel.accessAllowed ? 'block' : 'none';\n",
              "\n",
              "      async function convertToInteractive(key) {\n",
              "        const element = document.querySelector('#df-01b9e7e3-85b9-4ab2-9cbe-3bb2addecfb4');\n",
              "        const dataTable =\n",
              "          await google.colab.kernel.invokeFunction('convertToInteractive',\n",
              "                                                    [key], {});\n",
              "        if (!dataTable) return;\n",
              "\n",
              "        const docLinkHtml = 'Like what you see? Visit the ' +\n",
              "          '<a target=\"_blank\" href=https://colab.research.google.com/notebooks/data_table.ipynb>data table notebook</a>'\n",
              "          + ' to learn more about interactive tables.';\n",
              "        element.innerHTML = '';\n",
              "        dataTable['output_type'] = 'display_data';\n",
              "        await google.colab.output.renderOutput(dataTable, element);\n",
              "        const docLink = document.createElement('div');\n",
              "        docLink.innerHTML = docLinkHtml;\n",
              "        element.appendChild(docLink);\n",
              "      }\n",
              "    </script>\n",
              "  </div>\n",
              "\n",
              "\n",
              "<div id=\"df-7e0e8896-edcd-48b9-b88a-ac44dd0e7ea3\">\n",
              "  <button class=\"colab-df-quickchart\" onclick=\"quickchart('df-7e0e8896-edcd-48b9-b88a-ac44dd0e7ea3')\"\n",
              "            title=\"Suggest charts\"\n",
              "            style=\"display:none;\">\n",
              "\n",
              "<svg xmlns=\"http://www.w3.org/2000/svg\" height=\"24px\"viewBox=\"0 0 24 24\"\n",
              "     width=\"24px\">\n",
              "    <g>\n",
              "        <path d=\"M19 3H5c-1.1 0-2 .9-2 2v14c0 1.1.9 2 2 2h14c1.1 0 2-.9 2-2V5c0-1.1-.9-2-2-2zM9 17H7v-7h2v7zm4 0h-2V7h2v10zm4 0h-2v-4h2v4z\"/>\n",
              "    </g>\n",
              "</svg>\n",
              "  </button>\n",
              "\n",
              "<style>\n",
              "  .colab-df-quickchart {\n",
              "      --bg-color: #E8F0FE;\n",
              "      --fill-color: #1967D2;\n",
              "      --hover-bg-color: #E2EBFA;\n",
              "      --hover-fill-color: #174EA6;\n",
              "      --disabled-fill-color: #AAA;\n",
              "      --disabled-bg-color: #DDD;\n",
              "  }\n",
              "\n",
              "  [theme=dark] .colab-df-quickchart {\n",
              "      --bg-color: #3B4455;\n",
              "      --fill-color: #D2E3FC;\n",
              "      --hover-bg-color: #434B5C;\n",
              "      --hover-fill-color: #FFFFFF;\n",
              "      --disabled-bg-color: #3B4455;\n",
              "      --disabled-fill-color: #666;\n",
              "  }\n",
              "\n",
              "  .colab-df-quickchart {\n",
              "    background-color: var(--bg-color);\n",
              "    border: none;\n",
              "    border-radius: 50%;\n",
              "    cursor: pointer;\n",
              "    display: none;\n",
              "    fill: var(--fill-color);\n",
              "    height: 32px;\n",
              "    padding: 0;\n",
              "    width: 32px;\n",
              "  }\n",
              "\n",
              "  .colab-df-quickchart:hover {\n",
              "    background-color: var(--hover-bg-color);\n",
              "    box-shadow: 0 1px 2px rgba(60, 64, 67, 0.3), 0 1px 3px 1px rgba(60, 64, 67, 0.15);\n",
              "    fill: var(--button-hover-fill-color);\n",
              "  }\n",
              "\n",
              "  .colab-df-quickchart-complete:disabled,\n",
              "  .colab-df-quickchart-complete:disabled:hover {\n",
              "    background-color: var(--disabled-bg-color);\n",
              "    fill: var(--disabled-fill-color);\n",
              "    box-shadow: none;\n",
              "  }\n",
              "\n",
              "  .colab-df-spinner {\n",
              "    border: 2px solid var(--fill-color);\n",
              "    border-color: transparent;\n",
              "    border-bottom-color: var(--fill-color);\n",
              "    animation:\n",
              "      spin 1s steps(1) infinite;\n",
              "  }\n",
              "\n",
              "  @keyframes spin {\n",
              "    0% {\n",
              "      border-color: transparent;\n",
              "      border-bottom-color: var(--fill-color);\n",
              "      border-left-color: var(--fill-color);\n",
              "    }\n",
              "    20% {\n",
              "      border-color: transparent;\n",
              "      border-left-color: var(--fill-color);\n",
              "      border-top-color: var(--fill-color);\n",
              "    }\n",
              "    30% {\n",
              "      border-color: transparent;\n",
              "      border-left-color: var(--fill-color);\n",
              "      border-top-color: var(--fill-color);\n",
              "      border-right-color: var(--fill-color);\n",
              "    }\n",
              "    40% {\n",
              "      border-color: transparent;\n",
              "      border-right-color: var(--fill-color);\n",
              "      border-top-color: var(--fill-color);\n",
              "    }\n",
              "    60% {\n",
              "      border-color: transparent;\n",
              "      border-right-color: var(--fill-color);\n",
              "    }\n",
              "    80% {\n",
              "      border-color: transparent;\n",
              "      border-right-color: var(--fill-color);\n",
              "      border-bottom-color: var(--fill-color);\n",
              "    }\n",
              "    90% {\n",
              "      border-color: transparent;\n",
              "      border-bottom-color: var(--fill-color);\n",
              "    }\n",
              "  }\n",
              "</style>\n",
              "\n",
              "  <script>\n",
              "    async function quickchart(key) {\n",
              "      const quickchartButtonEl =\n",
              "        document.querySelector('#' + key + ' button');\n",
              "      quickchartButtonEl.disabled = true;  // To prevent multiple clicks.\n",
              "      quickchartButtonEl.classList.add('colab-df-spinner');\n",
              "      try {\n",
              "        const charts = await google.colab.kernel.invokeFunction(\n",
              "            'suggestCharts', [key], {});\n",
              "      } catch (error) {\n",
              "        console.error('Error during call to suggestCharts:', error);\n",
              "      }\n",
              "      quickchartButtonEl.classList.remove('colab-df-spinner');\n",
              "      quickchartButtonEl.classList.add('colab-df-quickchart-complete');\n",
              "    }\n",
              "    (() => {\n",
              "      let quickchartButtonEl =\n",
              "        document.querySelector('#df-7e0e8896-edcd-48b9-b88a-ac44dd0e7ea3 button');\n",
              "      quickchartButtonEl.style.display =\n",
              "        google.colab.kernel.accessAllowed ? 'block' : 'none';\n",
              "    })();\n",
              "  </script>\n",
              "</div>\n",
              "    </div>\n",
              "  </div>\n"
            ],
            "application/vnd.google.colaboratory.intrinsic+json": {
              "type": "dataframe"
            }
          },
          "metadata": {},
          "execution_count": 19
        }
      ]
    },
    {
      "cell_type": "code",
      "source": [
        "data.describe(include=object)"
      ],
      "metadata": {
        "id": "wyKsVTwNDRPm"
      },
      "execution_count": null,
      "outputs": []
    },
    {
      "cell_type": "code",
      "source": [
        "meanLotFrontage = np.mean(data.LotFrontage)\n",
        "print(\"LotFrontage :\", meanLotFrontage)"
      ],
      "metadata": {
        "id": "mFbmk0u6DgpU"
      },
      "execution_count": null,
      "outputs": []
    },
    {
      "cell_type": "markdown",
      "source": [
        "Disini saya mengatasi Missing Value pada kolom LotFrontage yaitu dengan mengisi nya menggunakan median"
      ],
      "metadata": {
        "id": "vmtvwWidxLaV"
      }
    },
    {
      "cell_type": "code",
      "source": [
        "data[\"LotFrontage\"] = data[\"LotFrontage\"].fillna(data[\"LotFrontage\"].median())\n",
        "data[\"LotFrontage\"]"
      ],
      "metadata": {
        "id": "3IgRMO9Bv2Ks"
      },
      "execution_count": null,
      "outputs": []
    },
    {
      "cell_type": "markdown",
      "source": [
        "Disini saya menghapus kolom Alley karena data yang Missing Value lebih dari 1/4 jumlah data"
      ],
      "metadata": {
        "id": "hAGFrwaJ9qql"
      }
    },
    {
      "cell_type": "code",
      "source": [
        "data = data.drop('Alley', axis=1)"
      ],
      "metadata": {
        "id": "cBuItMJa2Ru4"
      },
      "execution_count": null,
      "outputs": []
    },
    {
      "cell_type": "code",
      "source": [
        "display(data)"
      ],
      "metadata": {
        "id": "4diyxaq-HgY9"
      },
      "execution_count": null,
      "outputs": []
    },
    {
      "cell_type": "code",
      "source": [
        "kolom_MasVnrType = data['MasVnrType']\n",
        "print(kolom_MasVnrType)"
      ],
      "metadata": {
        "id": "Co5xsM2dZxPh"
      },
      "execution_count": null,
      "outputs": []
    },
    {
      "cell_type": "code",
      "source": [
        "import statistics as stats\n",
        "stats.mode(data['MasVnrType'])"
      ],
      "metadata": {
        "id": "PY9-acwCb6m_"
      },
      "execution_count": null,
      "outputs": []
    },
    {
      "cell_type": "code",
      "source": [
        "mode_MasVnrType = data['MasVnrType'].mode()[0]  # Mendapatkan mode (nilai paling sering muncul)\n",
        "data['MasVnrType'] = data['MasVnrType'].fillna(mode_MasVnrType)"
      ],
      "metadata": {
        "id": "IE24VL2CcxZp"
      },
      "execution_count": null,
      "outputs": []
    },
    {
      "cell_type": "markdown",
      "source": [
        "Disini saya menggunakan Mode untuk mengisi data Missing Value pada kolom MasVnrType"
      ],
      "metadata": {
        "id": "_TFNJj5Ec7N-"
      }
    },
    {
      "cell_type": "code",
      "source": [
        "meanMasVnrArea = np.mean(data.MasVnrArea)\n",
        "print(\"MasVnrArea :\", meanMasVnrArea)"
      ],
      "metadata": {
        "id": "2RfAHmLfdZmq"
      },
      "execution_count": null,
      "outputs": []
    },
    {
      "cell_type": "code",
      "source": [
        "mode_MasVnrArea = data['MasVnrArea'].mode()[0]  # Mendapatkan mode (nilai paling sering muncul)\n",
        "data['MasVnrArea'] = data['MasVnrArea'].fillna(mode_MasVnrArea)"
      ],
      "metadata": {
        "id": "h00uR5S3lcUG"
      },
      "execution_count": null,
      "outputs": []
    },
    {
      "cell_type": "markdown",
      "source": [
        "Disini saya menggunakan mode untuk mengisi Missing Value"
      ],
      "metadata": {
        "id": "pWCdkoIVp3Ba"
      }
    },
    {
      "cell_type": "code",
      "source": [
        "kolom_BsmtQual = data['BsmtQual']\n",
        "print(kolom_BsmtQual)"
      ],
      "metadata": {
        "id": "G0pDgF7Op9BQ"
      },
      "execution_count": null,
      "outputs": []
    },
    {
      "cell_type": "code",
      "source": [
        "display(data)"
      ],
      "metadata": {
        "id": "R9YhdPpyqe_Q"
      },
      "execution_count": null,
      "outputs": []
    },
    {
      "cell_type": "code",
      "source": [
        "stats.mode(data['BsmtQual'])"
      ],
      "metadata": {
        "id": "FzSWpZtmuYuL"
      },
      "execution_count": null,
      "outputs": []
    },
    {
      "cell_type": "code",
      "source": [
        "mode_BsmtQual = data['BsmtQual'].mode()[0]  # Mendapatkan mode (nilai paling sering muncul)\n",
        "data['BsmtQual'] = data['BsmtQual'].fillna(mode_BsmtQual)"
      ],
      "metadata": {
        "id": "JKwSji97unnE"
      },
      "execution_count": null,
      "outputs": []
    },
    {
      "cell_type": "code",
      "source": [
        "data['BsmtCond']"
      ],
      "metadata": {
        "id": "PEyj8wh4wDGS"
      },
      "execution_count": null,
      "outputs": []
    },
    {
      "cell_type": "code",
      "source": [
        "mode_BsmtCond = data['BsmtCond'].mode()[0]\n",
        "data['BsmtCond'] = data['BsmtCond'].fillna(mode_BsmtCond)"
      ],
      "metadata": {
        "id": "69l_sl9swHqC"
      },
      "execution_count": null,
      "outputs": []
    },
    {
      "cell_type": "code",
      "source": [
        "data['BsmtExposure']"
      ],
      "metadata": {
        "colab": {
          "base_uri": "https://localhost:8080/",
          "height": 141
        },
        "id": "fwMwZrbfws26",
        "outputId": "e5683e9b-850b-4a92-b731-d30d1e04d155"
      },
      "execution_count": null,
      "outputs": [
        {
          "output_type": "error",
          "ename": "NameError",
          "evalue": "name 'data' is not defined",
          "traceback": [
            "\u001b[0;31m---------------------------------------------------------------------------\u001b[0m",
            "\u001b[0;31mNameError\u001b[0m                                 Traceback (most recent call last)",
            "\u001b[0;32m<ipython-input-6-f1deb450e9fe>\u001b[0m in \u001b[0;36m<cell line: 1>\u001b[0;34m()\u001b[0m\n\u001b[0;32m----> 1\u001b[0;31m \u001b[0mdata\u001b[0m\u001b[0;34m[\u001b[0m\u001b[0;34m'BsmtExposure'\u001b[0m\u001b[0;34m]\u001b[0m\u001b[0;34m\u001b[0m\u001b[0;34m\u001b[0m\u001b[0m\n\u001b[0m",
            "\u001b[0;31mNameError\u001b[0m: name 'data' is not defined"
          ]
        }
      ]
    },
    {
      "cell_type": "code",
      "source": [
        "stats.mode(data['BsmtExposure'])"
      ],
      "metadata": {
        "id": "8s42cVMEw8Uu"
      },
      "execution_count": null,
      "outputs": []
    },
    {
      "cell_type": "code",
      "source": [
        "mode_BsmtExposure = data['BsmtExposure'].mode()[0]\n",
        "data['BsmtExposure'] = data['BsmtExposure'].fillna(mode_BsmtExposure)"
      ],
      "metadata": {
        "id": "txFkJzjkxIiC"
      },
      "execution_count": null,
      "outputs": []
    },
    {
      "cell_type": "code",
      "source": [
        "data['BsmtFinType1']"
      ],
      "metadata": {
        "id": "qZQSJTJqya_z"
      },
      "execution_count": null,
      "outputs": []
    },
    {
      "cell_type": "code",
      "source": [
        "stats.mode(data['BsmtFinType1'])"
      ],
      "metadata": {
        "id": "yUbwycZ2yfjR"
      },
      "execution_count": null,
      "outputs": []
    },
    {
      "cell_type": "code",
      "source": [
        "mode_BsmtFinType1 = data['BsmtFinType1'].mode()[0]\n",
        "data['BsmtFinType1'] = data['BsmtFinType1'].fillna(mode_BsmtFinType1)"
      ],
      "metadata": {
        "id": "UXsdbgdm3Ib5"
      },
      "execution_count": null,
      "outputs": []
    },
    {
      "cell_type": "code",
      "source": [
        "stats.mode(data['BsmtFinType2'])"
      ],
      "metadata": {
        "id": "_ePKfWRL6g23"
      },
      "execution_count": null,
      "outputs": []
    },
    {
      "cell_type": "code",
      "source": [
        "mode_BsmtFinType2 = data['BsmtFinType2'].mode()[0]\n",
        "data['BsmtFinType2'] = data['BsmtFinType2'].fillna(mode_BsmtFinType2)"
      ],
      "metadata": {
        "id": "SNl5TMFp6ku_"
      },
      "execution_count": null,
      "outputs": []
    },
    {
      "cell_type": "code",
      "source": [
        "data['Electrical']"
      ],
      "metadata": {
        "id": "Am8tuazu7EtQ"
      },
      "execution_count": null,
      "outputs": []
    },
    {
      "cell_type": "code",
      "source": [
        "stats.mode(data['Electrical'])"
      ],
      "metadata": {
        "id": "N3JKLkp-7Lb7"
      },
      "execution_count": null,
      "outputs": []
    },
    {
      "cell_type": "code",
      "source": [
        "mode_Electrical = data['Electrical'].mode()[0]\n",
        "data['Electrical'] = data['Electrical'].fillna(mode_Electrical)"
      ],
      "metadata": {
        "id": "LQ3sUqdx7gfm"
      },
      "execution_count": null,
      "outputs": []
    },
    {
      "cell_type": "code",
      "source": [
        "data.info()"
      ],
      "metadata": {
        "id": "uU4Ar178uu-6"
      },
      "execution_count": null,
      "outputs": []
    },
    {
      "cell_type": "code",
      "source": [
        "FireplaceQu_TA = data.loc[data['FireplaceQu'] == 'TA', ['FireplaceQu']]\n",
        "FireplaceQu_TA"
      ],
      "metadata": {
        "id": "4TXM24YSGSe7"
      },
      "execution_count": null,
      "outputs": []
    },
    {
      "cell_type": "code",
      "source": [
        "FireplaceQu_Gd = data.loc[data['FireplaceQu'] == 'Gd', ['FireplaceQu']]\n",
        "FireplaceQu_Gd"
      ],
      "metadata": {
        "id": "nVBjanpeI8m7"
      },
      "execution_count": null,
      "outputs": []
    },
    {
      "cell_type": "code",
      "source": [
        "FireplaceQu_Ex = data.loc[data['FireplaceQu'] == 'Ex', ['FireplaceQu']]\n",
        "FireplaceQu_Ex"
      ],
      "metadata": {
        "id": "k53EpZaWIjlZ"
      },
      "execution_count": null,
      "outputs": []
    },
    {
      "cell_type": "code",
      "source": [
        "stats.mode(data['FireplaceQu'])"
      ],
      "metadata": {
        "id": "TtCH1xwnF2OK"
      },
      "execution_count": null,
      "outputs": []
    },
    {
      "cell_type": "markdown",
      "source": [
        "## Feature\n",
        "\n",
        "- Total luas bangunan : 1stFlrSF + 2ndFlrSF + TotalBsmtSF.\n",
        "- Usia bangunan : YrSold + YrBuilt\n",
        "- Jumlah kamar mandi : FullBath + HalfBath\n",
        "- Total luas teras : WoodDeckSF + OpenPorchSF + EnclosedPorch + 3SsnPorch + ScreenPorch.\n",
        "- Rating Kualitas rumah : (OverallQual + OverallCond)/2\n",
        "- Total ruangan : Bedroom + TotRmsAbvGrd\n",
        "- Kondisi Garasi : (GarageQual + GarageCond) /2\n",
        "- Luas OutdoorArea: WoodDeckSF + OpenPorchSF + EnclosedPorch + 3SsnPorch + ScreenPorch + PoolArea.\n",
        "- QualityExterior: (ExterQual + ExterCond) / 2\n",
        "- RemodYears: YearSold - YearRemodAdd\n"
      ],
      "metadata": {
        "id": "HHn2_wfYbTPJ"
      }
    },
    {
      "cell_type": "code",
      "source": [
        "# Total Luas Bangunan\n",
        "\n",
        "data[\"TotalLuasBangunan\"] = data[\"1stFlrSF\"] + data[\"2ndFlrSF\"] + data[\"TotalBsmtSF\"]\n",
        "data[\"TotalLuasBangunan\"]"
      ],
      "metadata": {
        "colab": {
          "base_uri": "https://localhost:8080/"
        },
        "id": "TXBO1FZpi0WK",
        "outputId": "a514d34b-3d22-4def-cabe-4f0f7356e2e8"
      },
      "execution_count": null,
      "outputs": [
        {
          "output_type": "execute_result",
          "data": {
            "text/plain": [
              "0       2566\n",
              "1       2524\n",
              "2       2706\n",
              "3       2473\n",
              "4       3343\n",
              "        ... \n",
              "1455    2600\n",
              "1456    3615\n",
              "1457    3492\n",
              "1458    2156\n",
              "1459    2512\n",
              "Name: TotalLuasBangunan, Length: 1460, dtype: int64"
            ]
          },
          "metadata": {},
          "execution_count": 9
        }
      ]
    },
    {
      "cell_type": "code",
      "source": [
        "# Usia Bangunan\n",
        "\n",
        "data[\"UsiaBangunan\"] = data[\"YrSold\"] - data[\"YearBuilt\"]\n",
        "data[\"UsiaBangunan\"]"
      ],
      "metadata": {
        "colab": {
          "base_uri": "https://localhost:8080/"
        },
        "id": "qTtB-ud5jV1J",
        "outputId": "1163bbae-2380-4865-df84-4c65e2264214"
      },
      "execution_count": null,
      "outputs": [
        {
          "output_type": "execute_result",
          "data": {
            "text/plain": [
              "0        5\n",
              "1       31\n",
              "2        7\n",
              "3       91\n",
              "4        8\n",
              "        ..\n",
              "1455     8\n",
              "1456    32\n",
              "1457    69\n",
              "1458    60\n",
              "1459    43\n",
              "Name: UsiaBangunan, Length: 1460, dtype: int64"
            ]
          },
          "metadata": {},
          "execution_count": 11
        }
      ]
    },
    {
      "cell_type": "code",
      "source": [
        "# Jumlah Kamar Mandi\n",
        "\n",
        "data[\"JumlahKamarMandi\"] = data[\"FullBath\"] + data[\"HalfBath\"]\n",
        "data[\"JumlahKamarMandi\"]"
      ],
      "metadata": {
        "colab": {
          "base_uri": "https://localhost:8080/"
        },
        "id": "cY4YWDWDj0xo",
        "outputId": "91dd9f3b-fa31-4cef-8e81-4e4928d2e814"
      },
      "execution_count": null,
      "outputs": [
        {
          "output_type": "execute_result",
          "data": {
            "text/plain": [
              "0       3\n",
              "1       2\n",
              "2       3\n",
              "3       1\n",
              "4       3\n",
              "       ..\n",
              "1455    3\n",
              "1456    2\n",
              "1457    2\n",
              "1458    1\n",
              "1459    2\n",
              "Name: JumlahKamarMandi, Length: 1460, dtype: int64"
            ]
          },
          "metadata": {},
          "execution_count": 13
        }
      ]
    },
    {
      "cell_type": "code",
      "source": [
        "# Total Luas Teras\n",
        "\n",
        "data[\"TotalLuasTeras\"] = data[\"WoodDeckSF\"] + data[\"OpenPorchSF\"] + data[\"EnclosedPorch\"] + data[\"3SsnPorch\"] + data[\"ScreenPorch\"]\n",
        "data[\"TotalLuasTeras\"]"
      ],
      "metadata": {
        "colab": {
          "base_uri": "https://localhost:8080/"
        },
        "id": "frzB0ZcqkBMd",
        "outputId": "b050073b-06e7-465c-de90-97d2fbd96f33"
      },
      "execution_count": null,
      "outputs": [
        {
          "output_type": "execute_result",
          "data": {
            "text/plain": [
              "0        61\n",
              "1       298\n",
              "2        42\n",
              "3       307\n",
              "4       276\n",
              "       ... \n",
              "1455     40\n",
              "1456    349\n",
              "1457     60\n",
              "1458    478\n",
              "1459    804\n",
              "Name: TotalLuasTeras, Length: 1460, dtype: int64"
            ]
          },
          "metadata": {},
          "execution_count": 14
        }
      ]
    },
    {
      "cell_type": "code",
      "source": [
        "# Rating Kualitas Rumah\n",
        "\n",
        "data[\"RatingKualitasRumah\"] = (data[\"OverallQual\"] + data[\"OverallCond\"])/2\n",
        "data[\"RatingKualitasRumah\"]"
      ],
      "metadata": {
        "colab": {
          "base_uri": "https://localhost:8080/"
        },
        "id": "RxXa7F6rkdTc",
        "outputId": "20bdd66f-f6e1-4dce-e316-205d0c3908ad"
      },
      "execution_count": null,
      "outputs": [
        {
          "output_type": "execute_result",
          "data": {
            "text/plain": [
              "0       6.0\n",
              "1       7.0\n",
              "2       6.0\n",
              "3       6.0\n",
              "4       6.5\n",
              "       ... \n",
              "1455    5.5\n",
              "1456    6.0\n",
              "1457    8.0\n",
              "1458    5.5\n",
              "1459    5.5\n",
              "Name: RatingKualitasRumah, Length: 1460, dtype: float64"
            ]
          },
          "metadata": {},
          "execution_count": 15
        }
      ]
    },
    {
      "cell_type": "code",
      "source": [
        "# Total Ruangan\n",
        "\n",
        "data[\"TotalRuangan\"] = data[\"BedroomAbvGr\"] + data[\"TotRmsAbvGrd\"]\n",
        "data[\"TotalRuangan\"]"
      ],
      "metadata": {
        "colab": {
          "base_uri": "https://localhost:8080/"
        },
        "id": "qFr2ioBskvX8",
        "outputId": "33f3333f-ac43-40ee-d1af-936a70d703e9"
      },
      "execution_count": null,
      "outputs": [
        {
          "output_type": "execute_result",
          "data": {
            "text/plain": [
              "0       11\n",
              "1        9\n",
              "2        9\n",
              "3       10\n",
              "4       13\n",
              "        ..\n",
              "1455    10\n",
              "1456    10\n",
              "1457    13\n",
              "1458     7\n",
              "1459     9\n",
              "Name: TotalRuangan, Length: 1460, dtype: int64"
            ]
          },
          "metadata": {},
          "execution_count": 21
        }
      ]
    },
    {
      "cell_type": "code",
      "source": [
        "data.info()"
      ],
      "metadata": {
        "colab": {
          "base_uri": "https://localhost:8080/"
        },
        "id": "PUegE7JcmZSS",
        "outputId": "6831dc1c-3b4e-49b8-8ab0-ba2c2f5ac813"
      },
      "execution_count": null,
      "outputs": [
        {
          "output_type": "stream",
          "name": "stdout",
          "text": [
            "<class 'pandas.core.frame.DataFrame'>\n",
            "RangeIndex: 1460 entries, 0 to 1459\n",
            "Data columns (total 87 columns):\n",
            " #   Column               Non-Null Count  Dtype  \n",
            "---  ------               --------------  -----  \n",
            " 0   Id                   1460 non-null   int64  \n",
            " 1   MSSubClass           1460 non-null   int64  \n",
            " 2   MSZoning             1460 non-null   object \n",
            " 3   LotFrontage          1201 non-null   float64\n",
            " 4   LotArea              1460 non-null   int64  \n",
            " 5   Street               1460 non-null   object \n",
            " 6   Alley                91 non-null     object \n",
            " 7   LotShape             1460 non-null   object \n",
            " 8   LandContour          1460 non-null   object \n",
            " 9   Utilities            1460 non-null   object \n",
            " 10  LotConfig            1460 non-null   object \n",
            " 11  LandSlope            1460 non-null   object \n",
            " 12  Neighborhood         1460 non-null   object \n",
            " 13  Condition1           1460 non-null   object \n",
            " 14  Condition2           1460 non-null   object \n",
            " 15  BldgType             1460 non-null   object \n",
            " 16  HouseStyle           1460 non-null   object \n",
            " 17  OverallQual          1460 non-null   int64  \n",
            " 18  OverallCond          1460 non-null   int64  \n",
            " 19  YearBuilt            1460 non-null   int64  \n",
            " 20  YearRemodAdd         1460 non-null   int64  \n",
            " 21  RoofStyle            1460 non-null   object \n",
            " 22  RoofMatl             1460 non-null   object \n",
            " 23  Exterior1st          1460 non-null   object \n",
            " 24  Exterior2nd          1460 non-null   object \n",
            " 25  MasVnrType           1452 non-null   object \n",
            " 26  MasVnrArea           1452 non-null   float64\n",
            " 27  ExterQual            1460 non-null   object \n",
            " 28  ExterCond            1460 non-null   object \n",
            " 29  Foundation           1460 non-null   object \n",
            " 30  BsmtQual             1423 non-null   object \n",
            " 31  BsmtCond             1423 non-null   object \n",
            " 32  BsmtExposure         1422 non-null   object \n",
            " 33  BsmtFinType1         1423 non-null   object \n",
            " 34  BsmtFinSF1           1460 non-null   int64  \n",
            " 35  BsmtFinType2         1422 non-null   object \n",
            " 36  BsmtFinSF2           1460 non-null   int64  \n",
            " 37  BsmtUnfSF            1460 non-null   int64  \n",
            " 38  TotalBsmtSF          1460 non-null   int64  \n",
            " 39  Heating              1460 non-null   object \n",
            " 40  HeatingQC            1460 non-null   object \n",
            " 41  CentralAir           1460 non-null   object \n",
            " 42  Electrical           1459 non-null   object \n",
            " 43  1stFlrSF             1460 non-null   int64  \n",
            " 44  2ndFlrSF             1460 non-null   int64  \n",
            " 45  LowQualFinSF         1460 non-null   int64  \n",
            " 46  GrLivArea            1460 non-null   int64  \n",
            " 47  BsmtFullBath         1460 non-null   int64  \n",
            " 48  BsmtHalfBath         1460 non-null   int64  \n",
            " 49  FullBath             1460 non-null   int64  \n",
            " 50  HalfBath             1460 non-null   int64  \n",
            " 51  BedroomAbvGr         1460 non-null   int64  \n",
            " 52  KitchenAbvGr         1460 non-null   int64  \n",
            " 53  KitchenQual          1460 non-null   object \n",
            " 54  TotRmsAbvGrd         1460 non-null   int64  \n",
            " 55  Functional           1460 non-null   object \n",
            " 56  Fireplaces           1460 non-null   int64  \n",
            " 57  FireplaceQu          770 non-null    object \n",
            " 58  GarageType           1379 non-null   object \n",
            " 59  GarageYrBlt          1379 non-null   float64\n",
            " 60  GarageFinish         1379 non-null   object \n",
            " 61  GarageCars           1460 non-null   int64  \n",
            " 62  GarageArea           1460 non-null   int64  \n",
            " 63  GarageQual           1379 non-null   object \n",
            " 64  GarageCond           1379 non-null   object \n",
            " 65  PavedDrive           1460 non-null   object \n",
            " 66  WoodDeckSF           1460 non-null   int64  \n",
            " 67  OpenPorchSF          1460 non-null   int64  \n",
            " 68  EnclosedPorch        1460 non-null   int64  \n",
            " 69  3SsnPorch            1460 non-null   int64  \n",
            " 70  ScreenPorch          1460 non-null   int64  \n",
            " 71  PoolArea             1460 non-null   int64  \n",
            " 72  PoolQC               7 non-null      object \n",
            " 73  Fence                281 non-null    object \n",
            " 74  MiscFeature          54 non-null     object \n",
            " 75  MiscVal              1460 non-null   int64  \n",
            " 76  MoSold               1460 non-null   int64  \n",
            " 77  YrSold               1460 non-null   int64  \n",
            " 78  SaleType             1460 non-null   object \n",
            " 79  SaleCondition        1460 non-null   object \n",
            " 80  SalePrice            1460 non-null   int64  \n",
            " 81  TotalLuasBangunan    1460 non-null   int64  \n",
            " 82  UsiaBangunan         1460 non-null   int64  \n",
            " 83  JumlahKamarMandi     1460 non-null   int64  \n",
            " 84  TotalLuasTeras       1460 non-null   int64  \n",
            " 85  RatingKualitasRumah  1460 non-null   float64\n",
            " 86  TotalRuangan         1460 non-null   int64  \n",
            "dtypes: float64(4), int64(40), object(43)\n",
            "memory usage: 992.5+ KB\n"
          ]
        }
      ]
    },
    {
      "cell_type": "code",
      "source": [
        "data[[\"GarageQual\", \"GarageCond\"]]"
      ],
      "metadata": {
        "colab": {
          "base_uri": "https://localhost:8080/",
          "height": 424
        },
        "id": "OnwcFX5ymkDz",
        "outputId": "52bd3afd-0a3e-45a3-e12a-f4abdb2d2109"
      },
      "execution_count": null,
      "outputs": [
        {
          "output_type": "execute_result",
          "data": {
            "text/plain": [
              "     GarageQual GarageCond\n",
              "0            TA         TA\n",
              "1            TA         TA\n",
              "2            TA         TA\n",
              "3            TA         TA\n",
              "4            TA         TA\n",
              "...         ...        ...\n",
              "1455         TA         TA\n",
              "1456         TA         TA\n",
              "1457         TA         TA\n",
              "1458         TA         TA\n",
              "1459         TA         TA\n",
              "\n",
              "[1460 rows x 2 columns]"
            ],
            "text/html": [
              "\n",
              "  <div id=\"df-0d8ed0e7-8fef-4525-ab4e-00a86036d2bc\" class=\"colab-df-container\">\n",
              "    <div>\n",
              "<style scoped>\n",
              "    .dataframe tbody tr th:only-of-type {\n",
              "        vertical-align: middle;\n",
              "    }\n",
              "\n",
              "    .dataframe tbody tr th {\n",
              "        vertical-align: top;\n",
              "    }\n",
              "\n",
              "    .dataframe thead th {\n",
              "        text-align: right;\n",
              "    }\n",
              "</style>\n",
              "<table border=\"1\" class=\"dataframe\">\n",
              "  <thead>\n",
              "    <tr style=\"text-align: right;\">\n",
              "      <th></th>\n",
              "      <th>GarageQual</th>\n",
              "      <th>GarageCond</th>\n",
              "    </tr>\n",
              "  </thead>\n",
              "  <tbody>\n",
              "    <tr>\n",
              "      <th>0</th>\n",
              "      <td>TA</td>\n",
              "      <td>TA</td>\n",
              "    </tr>\n",
              "    <tr>\n",
              "      <th>1</th>\n",
              "      <td>TA</td>\n",
              "      <td>TA</td>\n",
              "    </tr>\n",
              "    <tr>\n",
              "      <th>2</th>\n",
              "      <td>TA</td>\n",
              "      <td>TA</td>\n",
              "    </tr>\n",
              "    <tr>\n",
              "      <th>3</th>\n",
              "      <td>TA</td>\n",
              "      <td>TA</td>\n",
              "    </tr>\n",
              "    <tr>\n",
              "      <th>4</th>\n",
              "      <td>TA</td>\n",
              "      <td>TA</td>\n",
              "    </tr>\n",
              "    <tr>\n",
              "      <th>...</th>\n",
              "      <td>...</td>\n",
              "      <td>...</td>\n",
              "    </tr>\n",
              "    <tr>\n",
              "      <th>1455</th>\n",
              "      <td>TA</td>\n",
              "      <td>TA</td>\n",
              "    </tr>\n",
              "    <tr>\n",
              "      <th>1456</th>\n",
              "      <td>TA</td>\n",
              "      <td>TA</td>\n",
              "    </tr>\n",
              "    <tr>\n",
              "      <th>1457</th>\n",
              "      <td>TA</td>\n",
              "      <td>TA</td>\n",
              "    </tr>\n",
              "    <tr>\n",
              "      <th>1458</th>\n",
              "      <td>TA</td>\n",
              "      <td>TA</td>\n",
              "    </tr>\n",
              "    <tr>\n",
              "      <th>1459</th>\n",
              "      <td>TA</td>\n",
              "      <td>TA</td>\n",
              "    </tr>\n",
              "  </tbody>\n",
              "</table>\n",
              "<p>1460 rows × 2 columns</p>\n",
              "</div>\n",
              "    <div class=\"colab-df-buttons\">\n",
              "\n",
              "  <div class=\"colab-df-container\">\n",
              "    <button class=\"colab-df-convert\" onclick=\"convertToInteractive('df-0d8ed0e7-8fef-4525-ab4e-00a86036d2bc')\"\n",
              "            title=\"Convert this dataframe to an interactive table.\"\n",
              "            style=\"display:none;\">\n",
              "\n",
              "  <svg xmlns=\"http://www.w3.org/2000/svg\" height=\"24px\" viewBox=\"0 -960 960 960\">\n",
              "    <path d=\"M120-120v-720h720v720H120Zm60-500h600v-160H180v160Zm220 220h160v-160H400v160Zm0 220h160v-160H400v160ZM180-400h160v-160H180v160Zm440 0h160v-160H620v160ZM180-180h160v-160H180v160Zm440 0h160v-160H620v160Z\"/>\n",
              "  </svg>\n",
              "    </button>\n",
              "\n",
              "  <style>\n",
              "    .colab-df-container {\n",
              "      display:flex;\n",
              "      gap: 12px;\n",
              "    }\n",
              "\n",
              "    .colab-df-convert {\n",
              "      background-color: #E8F0FE;\n",
              "      border: none;\n",
              "      border-radius: 50%;\n",
              "      cursor: pointer;\n",
              "      display: none;\n",
              "      fill: #1967D2;\n",
              "      height: 32px;\n",
              "      padding: 0 0 0 0;\n",
              "      width: 32px;\n",
              "    }\n",
              "\n",
              "    .colab-df-convert:hover {\n",
              "      background-color: #E2EBFA;\n",
              "      box-shadow: 0px 1px 2px rgba(60, 64, 67, 0.3), 0px 1px 3px 1px rgba(60, 64, 67, 0.15);\n",
              "      fill: #174EA6;\n",
              "    }\n",
              "\n",
              "    .colab-df-buttons div {\n",
              "      margin-bottom: 4px;\n",
              "    }\n",
              "\n",
              "    [theme=dark] .colab-df-convert {\n",
              "      background-color: #3B4455;\n",
              "      fill: #D2E3FC;\n",
              "    }\n",
              "\n",
              "    [theme=dark] .colab-df-convert:hover {\n",
              "      background-color: #434B5C;\n",
              "      box-shadow: 0px 1px 3px 1px rgba(0, 0, 0, 0.15);\n",
              "      filter: drop-shadow(0px 1px 2px rgba(0, 0, 0, 0.3));\n",
              "      fill: #FFFFFF;\n",
              "    }\n",
              "  </style>\n",
              "\n",
              "    <script>\n",
              "      const buttonEl =\n",
              "        document.querySelector('#df-0d8ed0e7-8fef-4525-ab4e-00a86036d2bc button.colab-df-convert');\n",
              "      buttonEl.style.display =\n",
              "        google.colab.kernel.accessAllowed ? 'block' : 'none';\n",
              "\n",
              "      async function convertToInteractive(key) {\n",
              "        const element = document.querySelector('#df-0d8ed0e7-8fef-4525-ab4e-00a86036d2bc');\n",
              "        const dataTable =\n",
              "          await google.colab.kernel.invokeFunction('convertToInteractive',\n",
              "                                                    [key], {});\n",
              "        if (!dataTable) return;\n",
              "\n",
              "        const docLinkHtml = 'Like what you see? Visit the ' +\n",
              "          '<a target=\"_blank\" href=https://colab.research.google.com/notebooks/data_table.ipynb>data table notebook</a>'\n",
              "          + ' to learn more about interactive tables.';\n",
              "        element.innerHTML = '';\n",
              "        dataTable['output_type'] = 'display_data';\n",
              "        await google.colab.output.renderOutput(dataTable, element);\n",
              "        const docLink = document.createElement('div');\n",
              "        docLink.innerHTML = docLinkHtml;\n",
              "        element.appendChild(docLink);\n",
              "      }\n",
              "    </script>\n",
              "  </div>\n",
              "\n",
              "\n",
              "<div id=\"df-b800ac4e-8e46-43f9-8e6b-1a6e0e71871a\">\n",
              "  <button class=\"colab-df-quickchart\" onclick=\"quickchart('df-b800ac4e-8e46-43f9-8e6b-1a6e0e71871a')\"\n",
              "            title=\"Suggest charts\"\n",
              "            style=\"display:none;\">\n",
              "\n",
              "<svg xmlns=\"http://www.w3.org/2000/svg\" height=\"24px\"viewBox=\"0 0 24 24\"\n",
              "     width=\"24px\">\n",
              "    <g>\n",
              "        <path d=\"M19 3H5c-1.1 0-2 .9-2 2v14c0 1.1.9 2 2 2h14c1.1 0 2-.9 2-2V5c0-1.1-.9-2-2-2zM9 17H7v-7h2v7zm4 0h-2V7h2v10zm4 0h-2v-4h2v4z\"/>\n",
              "    </g>\n",
              "</svg>\n",
              "  </button>\n",
              "\n",
              "<style>\n",
              "  .colab-df-quickchart {\n",
              "      --bg-color: #E8F0FE;\n",
              "      --fill-color: #1967D2;\n",
              "      --hover-bg-color: #E2EBFA;\n",
              "      --hover-fill-color: #174EA6;\n",
              "      --disabled-fill-color: #AAA;\n",
              "      --disabled-bg-color: #DDD;\n",
              "  }\n",
              "\n",
              "  [theme=dark] .colab-df-quickchart {\n",
              "      --bg-color: #3B4455;\n",
              "      --fill-color: #D2E3FC;\n",
              "      --hover-bg-color: #434B5C;\n",
              "      --hover-fill-color: #FFFFFF;\n",
              "      --disabled-bg-color: #3B4455;\n",
              "      --disabled-fill-color: #666;\n",
              "  }\n",
              "\n",
              "  .colab-df-quickchart {\n",
              "    background-color: var(--bg-color);\n",
              "    border: none;\n",
              "    border-radius: 50%;\n",
              "    cursor: pointer;\n",
              "    display: none;\n",
              "    fill: var(--fill-color);\n",
              "    height: 32px;\n",
              "    padding: 0;\n",
              "    width: 32px;\n",
              "  }\n",
              "\n",
              "  .colab-df-quickchart:hover {\n",
              "    background-color: var(--hover-bg-color);\n",
              "    box-shadow: 0 1px 2px rgba(60, 64, 67, 0.3), 0 1px 3px 1px rgba(60, 64, 67, 0.15);\n",
              "    fill: var(--button-hover-fill-color);\n",
              "  }\n",
              "\n",
              "  .colab-df-quickchart-complete:disabled,\n",
              "  .colab-df-quickchart-complete:disabled:hover {\n",
              "    background-color: var(--disabled-bg-color);\n",
              "    fill: var(--disabled-fill-color);\n",
              "    box-shadow: none;\n",
              "  }\n",
              "\n",
              "  .colab-df-spinner {\n",
              "    border: 2px solid var(--fill-color);\n",
              "    border-color: transparent;\n",
              "    border-bottom-color: var(--fill-color);\n",
              "    animation:\n",
              "      spin 1s steps(1) infinite;\n",
              "  }\n",
              "\n",
              "  @keyframes spin {\n",
              "    0% {\n",
              "      border-color: transparent;\n",
              "      border-bottom-color: var(--fill-color);\n",
              "      border-left-color: var(--fill-color);\n",
              "    }\n",
              "    20% {\n",
              "      border-color: transparent;\n",
              "      border-left-color: var(--fill-color);\n",
              "      border-top-color: var(--fill-color);\n",
              "    }\n",
              "    30% {\n",
              "      border-color: transparent;\n",
              "      border-left-color: var(--fill-color);\n",
              "      border-top-color: var(--fill-color);\n",
              "      border-right-color: var(--fill-color);\n",
              "    }\n",
              "    40% {\n",
              "      border-color: transparent;\n",
              "      border-right-color: var(--fill-color);\n",
              "      border-top-color: var(--fill-color);\n",
              "    }\n",
              "    60% {\n",
              "      border-color: transparent;\n",
              "      border-right-color: var(--fill-color);\n",
              "    }\n",
              "    80% {\n",
              "      border-color: transparent;\n",
              "      border-right-color: var(--fill-color);\n",
              "      border-bottom-color: var(--fill-color);\n",
              "    }\n",
              "    90% {\n",
              "      border-color: transparent;\n",
              "      border-bottom-color: var(--fill-color);\n",
              "    }\n",
              "  }\n",
              "</style>\n",
              "\n",
              "  <script>\n",
              "    async function quickchart(key) {\n",
              "      const quickchartButtonEl =\n",
              "        document.querySelector('#' + key + ' button');\n",
              "      quickchartButtonEl.disabled = true;  // To prevent multiple clicks.\n",
              "      quickchartButtonEl.classList.add('colab-df-spinner');\n",
              "      try {\n",
              "        const charts = await google.colab.kernel.invokeFunction(\n",
              "            'suggestCharts', [key], {});\n",
              "      } catch (error) {\n",
              "        console.error('Error during call to suggestCharts:', error);\n",
              "      }\n",
              "      quickchartButtonEl.classList.remove('colab-df-spinner');\n",
              "      quickchartButtonEl.classList.add('colab-df-quickchart-complete');\n",
              "    }\n",
              "    (() => {\n",
              "      let quickchartButtonEl =\n",
              "        document.querySelector('#df-b800ac4e-8e46-43f9-8e6b-1a6e0e71871a button');\n",
              "      quickchartButtonEl.style.display =\n",
              "        google.colab.kernel.accessAllowed ? 'block' : 'none';\n",
              "    })();\n",
              "  </script>\n",
              "</div>\n",
              "    </div>\n",
              "  </div>\n"
            ],
            "application/vnd.google.colaboratory.intrinsic+json": {
              "type": "dataframe",
              "summary": "{\n  \"name\": \"data[[\\\"GarageQual\\\", \\\"GarageCond\\\"]]\",\n  \"rows\": 1460,\n  \"fields\": [\n    {\n      \"column\": \"GarageQual\",\n      \"properties\": {\n        \"dtype\": \"category\",\n        \"num_unique_values\": 5,\n        \"samples\": [\n          \"Fa\",\n          \"Po\",\n          \"Gd\"\n        ],\n        \"semantic_type\": \"\",\n        \"description\": \"\"\n      }\n    },\n    {\n      \"column\": \"GarageCond\",\n      \"properties\": {\n        \"dtype\": \"category\",\n        \"num_unique_values\": 5,\n        \"samples\": [\n          \"Fa\",\n          \"Ex\",\n          \"Gd\"\n        ],\n        \"semantic_type\": \"\",\n        \"description\": \"\"\n      }\n    }\n  ]\n}"
            }
          },
          "metadata": {},
          "execution_count": 25
        }
      ]
    },
    {
      "cell_type": "code",
      "source": [
        "# Melakukan One-Hot Encoding\n",
        "# Membuat dictionary untuk memetakan nilai kualitas ke skala 1-5\n",
        "mapping = {'Ex': 5, 'Gd': 4, 'TA': 3, 'Fa': 2, 'Po': 1, 'NA': 0}\n",
        "\n",
        "# Mengubah nilai kolom \"GarageQual\" menggunakan mapping\n",
        "data['GarageQual'] = data['GarageQual'].map(mapping)\n",
        "data['GarageCond'] = data['GarageCond'].map(mapping)"
      ],
      "metadata": {
        "id": "GGwRSVWln_S6"
      },
      "execution_count": null,
      "outputs": []
    },
    {
      "cell_type": "code",
      "source": [
        "# Kondisi Garasi\n",
        "\n",
        "data[\"KondisiGarasi\"] = (data[\"GarageQual\"] + data[\"GarageCond\"])/2\n",
        "data[\"KondisiGarasi\"]"
      ],
      "metadata": {
        "colab": {
          "base_uri": "https://localhost:8080/"
        },
        "id": "ba2W8OhSmKOJ",
        "outputId": "56db2a58-08f0-45b9-b144-03c8123fd000"
      },
      "execution_count": null,
      "outputs": [
        {
          "output_type": "execute_result",
          "data": {
            "text/plain": [
              "0       3.0\n",
              "1       3.0\n",
              "2       3.0\n",
              "3       3.0\n",
              "4       3.0\n",
              "       ... \n",
              "1455    3.0\n",
              "1456    3.0\n",
              "1457    3.0\n",
              "1458    3.0\n",
              "1459    3.0\n",
              "Name: KondisiGarasi, Length: 1460, dtype: float64"
            ]
          },
          "metadata": {},
          "execution_count": 27
        }
      ]
    },
    {
      "cell_type": "code",
      "source": [
        "# Label Encoding\n",
        "# Membuat dictionary untuk memetakan nilai kualitas ke skala 1-5\n",
        "mapping = {5 :'Ex', 4 :'Gd', 3 :'TA', 2 :'Fa', 1 :'Po', 0 :'NA'}\n",
        "\n",
        "# Mengubah nilai kolom \"GarageQual\" menggunakan mapping\n",
        "data['KondisiGarasi'] = data['KondisiGarasi'].map(mapping)"
      ],
      "metadata": {
        "id": "1vMOP4jtpR3t"
      },
      "execution_count": 33,
      "outputs": []
    },
    {
      "cell_type": "code",
      "source": [
        "data[\"KondisiGarasi\"]"
      ],
      "metadata": {
        "colab": {
          "base_uri": "https://localhost:8080/"
        },
        "id": "AuELT5Hzp1cz",
        "outputId": "2f6e50bc-d673-464b-f8c6-937863718f8d"
      },
      "execution_count": 34,
      "outputs": [
        {
          "output_type": "execute_result",
          "data": {
            "text/plain": [
              "0       TA\n",
              "1       TA\n",
              "2       TA\n",
              "3       TA\n",
              "4       TA\n",
              "        ..\n",
              "1455    TA\n",
              "1456    TA\n",
              "1457    TA\n",
              "1458    TA\n",
              "1459    TA\n",
              "Name: KondisiGarasi, Length: 1460, dtype: object"
            ]
          },
          "metadata": {},
          "execution_count": 34
        }
      ]
    },
    {
      "cell_type": "code",
      "source": [
        "data[\"LuasOutdoorArea\"] = data[\"WoodDeckSF\"] + data[\"OpenPorchSF\"] + data[\"EnclosedPorch\"] + data[\"3SsnPorch\"] + data[\"ScreenPorch\"] + data[\"PoolArea\"]\n",
        "data[\"LuasOutdoorArea\"]"
      ],
      "metadata": {
        "colab": {
          "base_uri": "https://localhost:8080/"
        },
        "id": "DurbpSYwqAw2",
        "outputId": "e5b5d3db-4b2c-4cb4-af90-4ba1cce26925"
      },
      "execution_count": 35,
      "outputs": [
        {
          "output_type": "execute_result",
          "data": {
            "text/plain": [
              "0        61\n",
              "1       298\n",
              "2        42\n",
              "3       307\n",
              "4       276\n",
              "       ... \n",
              "1455     40\n",
              "1456    349\n",
              "1457     60\n",
              "1458    478\n",
              "1459    804\n",
              "Name: LuasOutdoorArea, Length: 1460, dtype: int64"
            ]
          },
          "metadata": {},
          "execution_count": 35
        }
      ]
    },
    {
      "cell_type": "code",
      "source": [
        "# Melakukan One-Hot Encoding\n",
        "# Membuat dictionary untuk memetakan nilai kualitas ke skala 1-5\n",
        "mapping = {'Ex': 5, 'Gd': 4, 'TA': 3, 'Fa': 2, 'Po': 1, 'NA': 0}\n",
        "\n",
        "# Mengubah nilai kolom \"GarageQual\" menggunakan mapping\n",
        "data['ExterQual'] = data['ExterQual'].map(mapping)\n",
        "data['ExterCond'] = data['ExterCond'].map(mapping)"
      ],
      "metadata": {
        "id": "iR37BThbrE3r"
      },
      "execution_count": 40,
      "outputs": []
    },
    {
      "cell_type": "code",
      "source": [
        "data[\"QualityExterior\"] = round((data[\"ExterQual\"] + data[\"ExterCond\"]) / 2)\n",
        "data[\"QualityExterior\"]"
      ],
      "metadata": {
        "colab": {
          "base_uri": "https://localhost:8080/"
        },
        "id": "nbwGjsyqqXWZ",
        "outputId": "b94f14bd-1383-4714-a62b-44a303f74f76"
      },
      "execution_count": 49,
      "outputs": [
        {
          "output_type": "execute_result",
          "data": {
            "text/plain": [
              "0       4.0\n",
              "1       3.0\n",
              "2       4.0\n",
              "3       3.0\n",
              "4       4.0\n",
              "       ... \n",
              "1455    3.0\n",
              "1456    3.0\n",
              "1457    4.0\n",
              "1458    3.0\n",
              "1459    4.0\n",
              "Name: QualityExterior, Length: 1460, dtype: float64"
            ]
          },
          "metadata": {},
          "execution_count": 49
        }
      ]
    },
    {
      "cell_type": "code",
      "source": [
        "# Label Encoding\n",
        "# Membuat dictionary untuk memetakan nilai kualitas ke skala 1-5\n",
        "mapping = {5 :'Ex', 4 :'Gd', 3 :'TA', 2 :'Fa', 1 :'Po', 0 :'NA'}\n",
        "\n",
        "# Mengubah nilai kolom \"GarageQual\" menggunakan mapping\n",
        "data['QualityExterior'] = data['QualityExterior'].map(mapping)"
      ],
      "metadata": {
        "id": "32Anh4a1rOtp"
      },
      "execution_count": 51,
      "outputs": []
    },
    {
      "cell_type": "code",
      "source": [
        "data[\"QualityExterior\"]"
      ],
      "metadata": {
        "colab": {
          "base_uri": "https://localhost:8080/"
        },
        "id": "Iyts9n7DrWop",
        "outputId": "fc6e01c0-f897-45da-fe8c-3e850d6b1a3d"
      },
      "execution_count": 52,
      "outputs": [
        {
          "output_type": "execute_result",
          "data": {
            "text/plain": [
              "0       Gd\n",
              "1       TA\n",
              "2       Gd\n",
              "3       TA\n",
              "4       Gd\n",
              "        ..\n",
              "1455    TA\n",
              "1456    TA\n",
              "1457    Gd\n",
              "1458    TA\n",
              "1459    Gd\n",
              "Name: QualityExterior, Length: 1460, dtype: object"
            ]
          },
          "metadata": {},
          "execution_count": 52
        }
      ]
    },
    {
      "cell_type": "code",
      "source": [
        "data[\"QualityExterior\"].value_counts()"
      ],
      "metadata": {
        "colab": {
          "base_uri": "https://localhost:8080/"
        },
        "id": "N-xdOoqksmUX",
        "outputId": "39953c41-5a17-4967-92ca-cc59814ab956"
      },
      "execution_count": 54,
      "outputs": [
        {
          "output_type": "execute_result",
          "data": {
            "text/plain": [
              "TA    773\n",
              "Gd    649\n",
              "Fa     37\n",
              "Ex      1\n",
              "Name: QualityExterior, dtype: int64"
            ]
          },
          "metadata": {},
          "execution_count": 54
        }
      ]
    },
    {
      "cell_type": "code",
      "source": [
        "data.info()"
      ],
      "metadata": {
        "colab": {
          "base_uri": "https://localhost:8080/"
        },
        "id": "DV6xNjHNrkpw",
        "outputId": "1f878726-9d04-465b-b545-2147ac9e231c"
      },
      "execution_count": 53,
      "outputs": [
        {
          "output_type": "stream",
          "name": "stdout",
          "text": [
            "<class 'pandas.core.frame.DataFrame'>\n",
            "RangeIndex: 1460 entries, 0 to 1459\n",
            "Data columns (total 90 columns):\n",
            " #   Column               Non-Null Count  Dtype  \n",
            "---  ------               --------------  -----  \n",
            " 0   Id                   1460 non-null   int64  \n",
            " 1   MSSubClass           1460 non-null   int64  \n",
            " 2   MSZoning             1460 non-null   object \n",
            " 3   LotFrontage          1201 non-null   float64\n",
            " 4   LotArea              1460 non-null   int64  \n",
            " 5   Street               1460 non-null   object \n",
            " 6   Alley                91 non-null     object \n",
            " 7   LotShape             1460 non-null   object \n",
            " 8   LandContour          1460 non-null   object \n",
            " 9   Utilities            1460 non-null   object \n",
            " 10  LotConfig            1460 non-null   object \n",
            " 11  LandSlope            1460 non-null   object \n",
            " 12  Neighborhood         1460 non-null   object \n",
            " 13  Condition1           1460 non-null   object \n",
            " 14  Condition2           1460 non-null   object \n",
            " 15  BldgType             1460 non-null   object \n",
            " 16  HouseStyle           1460 non-null   object \n",
            " 17  OverallQual          1460 non-null   int64  \n",
            " 18  OverallCond          1460 non-null   int64  \n",
            " 19  YearBuilt            1460 non-null   int64  \n",
            " 20  YearRemodAdd         1460 non-null   int64  \n",
            " 21  RoofStyle            1460 non-null   object \n",
            " 22  RoofMatl             1460 non-null   object \n",
            " 23  Exterior1st          1460 non-null   object \n",
            " 24  Exterior2nd          1460 non-null   object \n",
            " 25  MasVnrType           1452 non-null   object \n",
            " 26  MasVnrArea           1452 non-null   float64\n",
            " 27  ExterQual            1460 non-null   int64  \n",
            " 28  ExterCond            1460 non-null   int64  \n",
            " 29  Foundation           1460 non-null   object \n",
            " 30  BsmtQual             1423 non-null   object \n",
            " 31  BsmtCond             1423 non-null   object \n",
            " 32  BsmtExposure         1422 non-null   object \n",
            " 33  BsmtFinType1         1423 non-null   object \n",
            " 34  BsmtFinSF1           1460 non-null   int64  \n",
            " 35  BsmtFinType2         1422 non-null   object \n",
            " 36  BsmtFinSF2           1460 non-null   int64  \n",
            " 37  BsmtUnfSF            1460 non-null   int64  \n",
            " 38  TotalBsmtSF          1460 non-null   int64  \n",
            " 39  Heating              1460 non-null   object \n",
            " 40  HeatingQC            1460 non-null   object \n",
            " 41  CentralAir           1460 non-null   object \n",
            " 42  Electrical           1459 non-null   object \n",
            " 43  1stFlrSF             1460 non-null   int64  \n",
            " 44  2ndFlrSF             1460 non-null   int64  \n",
            " 45  LowQualFinSF         1460 non-null   int64  \n",
            " 46  GrLivArea            1460 non-null   int64  \n",
            " 47  BsmtFullBath         1460 non-null   int64  \n",
            " 48  BsmtHalfBath         1460 non-null   int64  \n",
            " 49  FullBath             1460 non-null   int64  \n",
            " 50  HalfBath             1460 non-null   int64  \n",
            " 51  BedroomAbvGr         1460 non-null   int64  \n",
            " 52  KitchenAbvGr         1460 non-null   int64  \n",
            " 53  KitchenQual          1460 non-null   object \n",
            " 54  TotRmsAbvGrd         1460 non-null   int64  \n",
            " 55  Functional           1460 non-null   object \n",
            " 56  Fireplaces           1460 non-null   int64  \n",
            " 57  FireplaceQu          770 non-null    object \n",
            " 58  GarageType           1379 non-null   object \n",
            " 59  GarageYrBlt          1379 non-null   float64\n",
            " 60  GarageFinish         1379 non-null   object \n",
            " 61  GarageCars           1460 non-null   int64  \n",
            " 62  GarageArea           1460 non-null   int64  \n",
            " 63  GarageQual           1379 non-null   float64\n",
            " 64  GarageCond           1379 non-null   float64\n",
            " 65  PavedDrive           1460 non-null   object \n",
            " 66  WoodDeckSF           1460 non-null   int64  \n",
            " 67  OpenPorchSF          1460 non-null   int64  \n",
            " 68  EnclosedPorch        1460 non-null   int64  \n",
            " 69  3SsnPorch            1460 non-null   int64  \n",
            " 70  ScreenPorch          1460 non-null   int64  \n",
            " 71  PoolArea             1460 non-null   int64  \n",
            " 72  PoolQC               7 non-null      object \n",
            " 73  Fence                281 non-null    object \n",
            " 74  MiscFeature          54 non-null     object \n",
            " 75  MiscVal              1460 non-null   int64  \n",
            " 76  MoSold               1460 non-null   int64  \n",
            " 77  YrSold               1460 non-null   int64  \n",
            " 78  SaleType             1460 non-null   object \n",
            " 79  SaleCondition        1460 non-null   object \n",
            " 80  SalePrice            1460 non-null   int64  \n",
            " 81  TotalLuasBangunan    1460 non-null   int64  \n",
            " 82  UsiaBangunan         1460 non-null   int64  \n",
            " 83  JumlahKamarMandi     1460 non-null   int64  \n",
            " 84  TotalLuasTeras       1460 non-null   int64  \n",
            " 85  RatingKualitasRumah  1460 non-null   float64\n",
            " 86  TotalRuangan         1460 non-null   int64  \n",
            " 87  KondisiGarasi        1321 non-null   object \n",
            " 88  LuasOutdoorArea      1460 non-null   int64  \n",
            " 89  QualityExterior      1460 non-null   object \n",
            "dtypes: float64(6), int64(43), object(41)\n",
            "memory usage: 1.0+ MB\n"
          ]
        }
      ]
    },
    {
      "cell_type": "code",
      "source": [
        "data[\"RemodYears\"] = data[\"YrSold\"] - data[\"YearRemodAdd\"]\n",
        "data[\"RemodYears\"]"
      ],
      "metadata": {
        "colab": {
          "base_uri": "https://localhost:8080/"
        },
        "id": "WppAU_-ztetl",
        "outputId": "93cfa655-27bd-4129-c621-4d2e2a031dcb"
      },
      "execution_count": 57,
      "outputs": [
        {
          "output_type": "execute_result",
          "data": {
            "text/plain": [
              "0        5\n",
              "1       31\n",
              "2        6\n",
              "3       36\n",
              "4        8\n",
              "        ..\n",
              "1455     7\n",
              "1456    22\n",
              "1457     4\n",
              "1458    14\n",
              "1459    43\n",
              "Name: RemodYears, Length: 1460, dtype: int64"
            ]
          },
          "metadata": {},
          "execution_count": 57
        }
      ]
    },
    {
      "cell_type": "markdown",
      "source": [
        "## Visualisasi"
      ],
      "metadata": {
        "id": "H_aZH9tPt6Mx"
      }
    },
    {
      "cell_type": "code",
      "source": [
        "# Distribusi Data Penjualan Rumah\n",
        "\n",
        "plt.figure(figsize=(10, 6))\n",
        "sns.histplot(data['SalePrice'], kde=True, color='skyblue')\n",
        "plt.title('Distribusi Harga Jual Properti')\n",
        "plt.xlabel('Harga Jual (Dolar)')\n",
        "plt.ylabel('Frekuensi')\n",
        "plt.show()"
      ],
      "metadata": {
        "colab": {
          "base_uri": "https://localhost:8080/",
          "height": 564
        },
        "id": "W933iqp5t5pM",
        "outputId": "b7153766-38b5-4164-ebe1-90c2acee078c"
      },
      "execution_count": 58,
      "outputs": [
        {
          "output_type": "display_data",
          "data": {
            "text/plain": [
              "<Figure size 1000x600 with 1 Axes>"
            ],
            "image/png": "[encoded data removed]"
          },
          "metadata": {}
        }
      ]
    },
    {
      "cell_type": "code",
      "source": [
        "# Heatmap korelasi antara fitur baru dan SalePrice\n",
        "numeric_features = data[[\"TotalLuasBangunan\",\"UsiaBangunan\",\"JumlahKamarMandi\", \"TotalRuangan\", \"SalePrice\"]]\n",
        "correlation_matrix = numeric_features.corr()\n",
        "plt.figure(figsize=(12, 10))\n",
        "sns.heatmap(correlation_matrix, annot=True, cmap='coolwarm')\n",
        "plt.title('Heatmap Korelasi antara Fitur Numerik dan Harga Jual')\n",
        "plt.show()"
      ],
      "metadata": {
        "colab": {
          "base_uri": "https://localhost:8080/",
          "height": 853
        },
        "id": "LEmN2agEuEGC",
        "outputId": "684c3fb8-65bd-47bd-eac7-686eed8d211f"
      },
      "execution_count": 61,
      "outputs": [
        {
          "output_type": "display_data",
          "data": {
            "text/plain": [
              "<Figure size 1200x1000 with 2 Axes>"
            ],
            "image/png": "[encoded data removed]"
          },
          "metadata": {}
        }
      ]
    },
    {
      "cell_type": "code",
      "source": [
        "# Membuat boxplot untuk kolom \"GarageQual\"\n",
        "plt.figure(figsize=(8, 6))\n",
        "sns.boxplot(x=data[\"SalePrice\"])\n",
        "plt.title(\"Boxplot SalePrice\")\n",
        "plt.xlabel(\"Sale Price\")\n",
        "plt.show()"
      ],
      "metadata": {
        "colab": {
          "base_uri": "https://localhost:8080/",
          "height": 564
        },
        "id": "R1Gpc_zrvaxV",
        "outputId": "433d89e6-a454-49d9-ef4a-3fdcb367e69e"
      },
      "execution_count": 63,
      "outputs": [
        {
          "output_type": "display_data",
          "data": {
            "text/plain": [
              "<Figure size 800x600 with 1 Axes>"
            ],
            "image/png": "[encoded data removed]"
          },
          "metadata": {}
        }
      ]
    }
  ]
}