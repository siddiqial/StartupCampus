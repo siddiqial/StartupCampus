{
  "nbformat": 4,
  "nbformat_minor": 0,
  "metadata": {
    "colab": {
      "provenance": []
    },
    "kernelspec": {
      "name": "python3",
      "display_name": "Python 3"
    },
    "language_info": {
      "name": "python"
    }
  },
  "cells": [
    {
      "cell_type": "code",
      "execution_count": null,
      "metadata": {
        "id": "SMroBFcF_Xf_"
      },
      "outputs": [],
      "source": [
        "import pandas as pd\n",
        "import numpy as np\n",
        "import matplotlib.pyplot as plt\n",
        "import seaborn as sns"
      ]
    },
    {
      "cell_type": "code",
      "source": [
        "data = pd.read_csv(\"/content/train.csv\")\n",
        "display(data)"
      ],
      "metadata": {
        "colab": {
          "base_uri": "https://localhost:8080/",
          "height": 443
        },
        "id": "77UZvr7u_htY",
        "outputId": "39f88c77-ed31-48aa-b5f9-5c6036d53740"
      },
      "execution_count": null,
      "outputs": [
        {
          "output_type": "display_data",
          "data": {
            "text/plain": [
              "        Id  MSSubClass MSZoning  LotFrontage  LotArea Street Alley LotShape  \\\n",
              "0        1          60       RL         65.0     8450   Pave   NaN      Reg   \n",
              "1        2          20       RL         80.0     9600   Pave   NaN      Reg   \n",
              "2        3          60       RL         68.0    11250   Pave   NaN      IR1   \n",
              "3        4          70       RL         60.0     9550   Pave   NaN      IR1   \n",
              "4        5          60       RL         84.0    14260   Pave   NaN      IR1   \n",
              "...    ...         ...      ...          ...      ...    ...   ...      ...   \n",
              "1455  1456          60       RL         62.0     7917   Pave   NaN      Reg   \n",
              "1456  1457          20       RL         85.0    13175   Pave   NaN      Reg   \n",
              "1457  1458          70       RL         66.0     9042   Pave   NaN      Reg   \n",
              "1458  1459          20       RL         68.0     9717   Pave   NaN      Reg   \n",
              "1459  1460          20       RL         75.0     9937   Pave   NaN      Reg   \n",
              "\n",
              "     LandContour Utilities  ... PoolArea PoolQC  Fence MiscFeature MiscVal  \\\n",
              "0            Lvl    AllPub  ...        0    NaN    NaN         NaN       0   \n",
              "1            Lvl    AllPub  ...        0    NaN    NaN         NaN       0   \n",
              "2            Lvl    AllPub  ...        0    NaN    NaN         NaN       0   \n",
              "3            Lvl    AllPub  ...        0    NaN    NaN         NaN       0   \n",
              "4            Lvl    AllPub  ...        0    NaN    NaN         NaN       0   \n",
              "...          ...       ...  ...      ...    ...    ...         ...     ...   \n",
              "1455         Lvl    AllPub  ...        0    NaN    NaN         NaN       0   \n",
              "1456         Lvl    AllPub  ...        0    NaN  MnPrv         NaN       0   \n",
              "1457         Lvl    AllPub  ...        0    NaN  GdPrv        Shed    2500   \n",
              "1458         Lvl    AllPub  ...        0    NaN    NaN         NaN       0   \n",
              "1459         Lvl    AllPub  ...        0    NaN    NaN         NaN       0   \n",
              "\n",
              "     MoSold YrSold  SaleType  SaleCondition  SalePrice  \n",
              "0         2   2008        WD         Normal     208500  \n",
              "1         5   2007        WD         Normal     181500  \n",
              "2         9   2008        WD         Normal     223500  \n",
              "3         2   2006        WD        Abnorml     140000  \n",
              "4        12   2008        WD         Normal     250000  \n",
              "...     ...    ...       ...            ...        ...  \n",
              "1455      8   2007        WD         Normal     175000  \n",
              "1456      2   2010        WD         Normal     210000  \n",
              "1457      5   2010        WD         Normal     266500  \n",
              "1458      4   2010        WD         Normal     142125  \n",
              "1459      6   2008        WD         Normal     147500  \n",
              "\n",
              "[1460 rows x 81 columns]"
            ],
            "text/html": [
              "\n",
              "  <div id=\"df-f2bb28be-c5aa-4610-a829-97d1d066b8bb\" class=\"colab-df-container\">\n",
              "    <div>\n",
              "<style scoped>\n",
              "    .dataframe tbody tr th:only-of-type {\n",
              "        vertical-align: middle;\n",
              "    }\n",
              "\n",
              "    .dataframe tbody tr th {\n",
              "        vertical-align: top;\n",
              "    }\n",
              "\n",
              "    .dataframe thead th {\n",
              "        text-align: right;\n",
              "    }\n",
              "</style>\n",
              "<table border=\"1\" class=\"dataframe\">\n",
              "  <thead>\n",
              "    <tr style=\"text-align: right;\">\n",
              "      <th></th>\n",
              "      <th>Id</th>\n",
              "      <th>MSSubClass</th>\n",
              "      <th>MSZoning</th>\n",
              "      <th>LotFrontage</th>\n",
              "      <th>LotArea</th>\n",
              "      <th>Street</th>\n",
              "      <th>Alley</th>\n",
              "      <th>LotShape</th>\n",
              "      <th>LandContour</th>\n",
              "      <th>Utilities</th>\n",
              "      <th>...</th>\n",
              "      <th>PoolArea</th>\n",
              "      <th>PoolQC</th>\n",
              "      <th>Fence</th>\n",
              "      <th>MiscFeature</th>\n",
              "      <th>MiscVal</th>\n",
              "      <th>MoSold</th>\n",
              "      <th>YrSold</th>\n",
              "      <th>SaleType</th>\n",
              "      <th>SaleCondition</th>\n",
              "      <th>SalePrice</th>\n",
              "    </tr>\n",
              "  </thead>\n",
              "  <tbody>\n",
              "    <tr>\n",
              "      <th>0</th>\n",
              "      <td>1</td>\n",
              "      <td>60</td>\n",
              "      <td>RL</td>\n",
              "      <td>65.0</td>\n",
              "      <td>8450</td>\n",
              "      <td>Pave</td>\n",
              "      <td>NaN</td>\n",
              "      <td>Reg</td>\n",
              "      <td>Lvl</td>\n",
              "      <td>AllPub</td>\n",
              "      <td>...</td>\n",
              "      <td>0</td>\n",
              "      <td>NaN</td>\n",
              "      <td>NaN</td>\n",
              "      <td>NaN</td>\n",
              "      <td>0</td>\n",
              "      <td>2</td>\n",
              "      <td>2008</td>\n",
              "      <td>WD</td>\n",
              "      <td>Normal</td>\n",
              "      <td>208500</td>\n",
              "    </tr>\n",
              "    <tr>\n",
              "      <th>1</th>\n",
              "      <td>2</td>\n",
              "      <td>20</td>\n",
              "      <td>RL</td>\n",
              "      <td>80.0</td>\n",
              "      <td>9600</td>\n",
              "      <td>Pave</td>\n",
              "      <td>NaN</td>\n",
              "      <td>Reg</td>\n",
              "      <td>Lvl</td>\n",
              "      <td>AllPub</td>\n",
              "      <td>...</td>\n",
              "      <td>0</td>\n",
              "      <td>NaN</td>\n",
              "      <td>NaN</td>\n",
              "      <td>NaN</td>\n",
              "      <td>0</td>\n",
              "      <td>5</td>\n",
              "      <td>2007</td>\n",
              "      <td>WD</td>\n",
              "      <td>Normal</td>\n",
              "      <td>181500</td>\n",
              "    </tr>\n",
              "    <tr>\n",
              "      <th>2</th>\n",
              "      <td>3</td>\n",
              "      <td>60</td>\n",
              "      <td>RL</td>\n",
              "      <td>68.0</td>\n",
              "      <td>11250</td>\n",
              "      <td>Pave</td>\n",
              "      <td>NaN</td>\n",
              "      <td>IR1</td>\n",
              "      <td>Lvl</td>\n",
              "      <td>AllPub</td>\n",
              "      <td>...</td>\n",
              "      <td>0</td>\n",
              "      <td>NaN</td>\n",
              "      <td>NaN</td>\n",
              "      <td>NaN</td>\n",
              "      <td>0</td>\n",
              "      <td>9</td>\n",
              "      <td>2008</td>\n",
              "      <td>WD</td>\n",
              "      <td>Normal</td>\n",
              "      <td>223500</td>\n",
              "    </tr>\n",
              "    <tr>\n",
              "      <th>3</th>\n",
              "      <td>4</td>\n",
              "      <td>70</td>\n",
              "      <td>RL</td>\n",
              "      <td>60.0</td>\n",
              "      <td>9550</td>\n",
              "      <td>Pave</td>\n",
              "      <td>NaN</td>\n",
              "      <td>IR1</td>\n",
              "      <td>Lvl</td>\n",
              "      <td>AllPub</td>\n",
              "      <td>...</td>\n",
              "      <td>0</td>\n",
              "      <td>NaN</td>\n",
              "      <td>NaN</td>\n",
              "      <td>NaN</td>\n",
              "      <td>0</td>\n",
              "      <td>2</td>\n",
              "      <td>2006</td>\n",
              "      <td>WD</td>\n",
              "      <td>Abnorml</td>\n",
              "      <td>140000</td>\n",
              "    </tr>\n",
              "    <tr>\n",
              "      <th>4</th>\n",
              "      <td>5</td>\n",
              "      <td>60</td>\n",
              "      <td>RL</td>\n",
              "      <td>84.0</td>\n",
              "      <td>14260</td>\n",
              "      <td>Pave</td>\n",
              "      <td>NaN</td>\n",
              "      <td>IR1</td>\n",
              "      <td>Lvl</td>\n",
              "      <td>AllPub</td>\n",
              "      <td>...</td>\n",
              "      <td>0</td>\n",
              "      <td>NaN</td>\n",
              "      <td>NaN</td>\n",
              "      <td>NaN</td>\n",
              "      <td>0</td>\n",
              "      <td>12</td>\n",
              "      <td>2008</td>\n",
              "      <td>WD</td>\n",
              "      <td>Normal</td>\n",
              "      <td>250000</td>\n",
              "    </tr>\n",
              "    <tr>\n",
              "      <th>...</th>\n",
              "      <td>...</td>\n",
              "      <td>...</td>\n",
              "      <td>...</td>\n",
              "      <td>...</td>\n",
              "      <td>...</td>\n",
              "      <td>...</td>\n",
              "      <td>...</td>\n",
              "      <td>...</td>\n",
              "      <td>...</td>\n",
              "      <td>...</td>\n",
              "      <td>...</td>\n",
              "      <td>...</td>\n",
              "      <td>...</td>\n",
              "      <td>...</td>\n",
              "      <td>...</td>\n",
              "      <td>...</td>\n",
              "      <td>...</td>\n",
              "      <td>...</td>\n",
              "      <td>...</td>\n",
              "      <td>...</td>\n",
              "      <td>...</td>\n",
              "    </tr>\n",
              "    <tr>\n",
              "      <th>1455</th>\n",
              "      <td>1456</td>\n",
              "      <td>60</td>\n",
              "      <td>RL</td>\n",
              "      <td>62.0</td>\n",
              "      <td>7917</td>\n",
              "      <td>Pave</td>\n",
              "      <td>NaN</td>\n",
              "      <td>Reg</td>\n",
              "      <td>Lvl</td>\n",
              "      <td>AllPub</td>\n",
              "      <td>...</td>\n",
              "      <td>0</td>\n",
              "      <td>NaN</td>\n",
              "      <td>NaN</td>\n",
              "      <td>NaN</td>\n",
              "      <td>0</td>\n",
              "      <td>8</td>\n",
              "      <td>2007</td>\n",
              "      <td>WD</td>\n",
              "      <td>Normal</td>\n",
              "      <td>175000</td>\n",
              "    </tr>\n",
              "    <tr>\n",
              "      <th>1456</th>\n",
              "      <td>1457</td>\n",
              "      <td>20</td>\n",
              "      <td>RL</td>\n",
              "      <td>85.0</td>\n",
              "      <td>13175</td>\n",
              "      <td>Pave</td>\n",
              "      <td>NaN</td>\n",
              "      <td>Reg</td>\n",
              "      <td>Lvl</td>\n",
              "      <td>AllPub</td>\n",
              "      <td>...</td>\n",
              "      <td>0</td>\n",
              "      <td>NaN</td>\n",
              "      <td>MnPrv</td>\n",
              "      <td>NaN</td>\n",
              "      <td>0</td>\n",
              "      <td>2</td>\n",
              "      <td>2010</td>\n",
              "      <td>WD</td>\n",
              "      <td>Normal</td>\n",
              "      <td>210000</td>\n",
              "    </tr>\n",
              "    <tr>\n",
              "      <th>1457</th>\n",
              "      <td>1458</td>\n",
              "      <td>70</td>\n",
              "      <td>RL</td>\n",
              "      <td>66.0</td>\n",
              "      <td>9042</td>\n",
              "      <td>Pave</td>\n",
              "      <td>NaN</td>\n",
              "      <td>Reg</td>\n",
              "      <td>Lvl</td>\n",
              "      <td>AllPub</td>\n",
              "      <td>...</td>\n",
              "      <td>0</td>\n",
              "      <td>NaN</td>\n",
              "      <td>GdPrv</td>\n",
              "      <td>Shed</td>\n",
              "      <td>2500</td>\n",
              "      <td>5</td>\n",
              "      <td>2010</td>\n",
              "      <td>WD</td>\n",
              "      <td>Normal</td>\n",
              "      <td>266500</td>\n",
              "    </tr>\n",
              "    <tr>\n",
              "      <th>1458</th>\n",
              "      <td>1459</td>\n",
              "      <td>20</td>\n",
              "      <td>RL</td>\n",
              "      <td>68.0</td>\n",
              "      <td>9717</td>\n",
              "      <td>Pave</td>\n",
              "      <td>NaN</td>\n",
              "      <td>Reg</td>\n",
              "      <td>Lvl</td>\n",
              "      <td>AllPub</td>\n",
              "      <td>...</td>\n",
              "      <td>0</td>\n",
              "      <td>NaN</td>\n",
              "      <td>NaN</td>\n",
              "      <td>NaN</td>\n",
              "      <td>0</td>\n",
              "      <td>4</td>\n",
              "      <td>2010</td>\n",
              "      <td>WD</td>\n",
              "      <td>Normal</td>\n",
              "      <td>142125</td>\n",
              "    </tr>\n",
              "    <tr>\n",
              "      <th>1459</th>\n",
              "      <td>1460</td>\n",
              "      <td>20</td>\n",
              "      <td>RL</td>\n",
              "      <td>75.0</td>\n",
              "      <td>9937</td>\n",
              "      <td>Pave</td>\n",
              "      <td>NaN</td>\n",
              "      <td>Reg</td>\n",
              "      <td>Lvl</td>\n",
              "      <td>AllPub</td>\n",
              "      <td>...</td>\n",
              "      <td>0</td>\n",
              "      <td>NaN</td>\n",
              "      <td>NaN</td>\n",
              "      <td>NaN</td>\n",
              "      <td>0</td>\n",
              "      <td>6</td>\n",
              "      <td>2008</td>\n",
              "      <td>WD</td>\n",
              "      <td>Normal</td>\n",
              "      <td>147500</td>\n",
              "    </tr>\n",
              "  </tbody>\n",
              "</table>\n",
              "<p>1460 rows × 81 columns</p>\n",
              "</div>\n",
              "    <div class=\"colab-df-buttons\">\n",
              "\n",
              "  <div class=\"colab-df-container\">\n",
              "    <button class=\"colab-df-convert\" onclick=\"convertToInteractive('df-f2bb28be-c5aa-4610-a829-97d1d066b8bb')\"\n",
              "            title=\"Convert this dataframe to an interactive table.\"\n",
              "            style=\"display:none;\">\n",
              "\n",
              "  <svg xmlns=\"http://www.w3.org/2000/svg\" height=\"24px\" viewBox=\"0 -960 960 960\">\n",
              "    <path d=\"M120-120v-720h720v720H120Zm60-500h600v-160H180v160Zm220 220h160v-160H400v160Zm0 220h160v-160H400v160ZM180-400h160v-160H180v160Zm440 0h160v-160H620v160ZM180-180h160v-160H180v160Zm440 0h160v-160H620v160Z\"/>\n",
              "  </svg>\n",
              "    </button>\n",
              "\n",
              "  <style>\n",
              "    .colab-df-container {\n",
              "      display:flex;\n",
              "      gap: 12px;\n",
              "    }\n",
              "\n",
              "    .colab-df-convert {\n",
              "      background-color: #E8F0FE;\n",
              "      border: none;\n",
              "      border-radius: 50%;\n",
              "      cursor: pointer;\n",
              "      display: none;\n",
              "      fill: #1967D2;\n",
              "      height: 32px;\n",
              "      padding: 0 0 0 0;\n",
              "      width: 32px;\n",
              "    }\n",
              "\n",
              "    .colab-df-convert:hover {\n",
              "      background-color: #E2EBFA;\n",
              "      box-shadow: 0px 1px 2px rgba(60, 64, 67, 0.3), 0px 1px 3px 1px rgba(60, 64, 67, 0.15);\n",
              "      fill: #174EA6;\n",
              "    }\n",
              "\n",
              "    .colab-df-buttons div {\n",
              "      margin-bottom: 4px;\n",
              "    }\n",
              "\n",
              "    [theme=dark] .colab-df-convert {\n",
              "      background-color: #3B4455;\n",
              "      fill: #D2E3FC;\n",
              "    }\n",
              "\n",
              "    [theme=dark] .colab-df-convert:hover {\n",
              "      background-color: #434B5C;\n",
              "      box-shadow: 0px 1px 3px 1px rgba(0, 0, 0, 0.15);\n",
              "      filter: drop-shadow(0px 1px 2px rgba(0, 0, 0, 0.3));\n",
              "      fill: #FFFFFF;\n",
              "    }\n",
              "  </style>\n",
              "\n",
              "    <script>\n",
              "      const buttonEl =\n",
              "        document.querySelector('#df-f2bb28be-c5aa-4610-a829-97d1d066b8bb button.colab-df-convert');\n",
              "      buttonEl.style.display =\n",
              "        google.colab.kernel.accessAllowed ? 'block' : 'none';\n",
              "\n",
              "      async function convertToInteractive(key) {\n",
              "        const element = document.querySelector('#df-f2bb28be-c5aa-4610-a829-97d1d066b8bb');\n",
              "        const dataTable =\n",
              "          await google.colab.kernel.invokeFunction('convertToInteractive',\n",
              "                                                    [key], {});\n",
              "        if (!dataTable) return;\n",
              "\n",
              "        const docLinkHtml = 'Like what you see? Visit the ' +\n",
              "          '<a target=\"_blank\" href=https://colab.research.google.com/notebooks/data_table.ipynb>data table notebook</a>'\n",
              "          + ' to learn more about interactive tables.';\n",
              "        element.innerHTML = '';\n",
              "        dataTable['output_type'] = 'display_data';\n",
              "        await google.colab.output.renderOutput(dataTable, element);\n",
              "        const docLink = document.createElement('div');\n",
              "        docLink.innerHTML = docLinkHtml;\n",
              "        element.appendChild(docLink);\n",
              "      }\n",
              "    </script>\n",
              "  </div>\n",
              "\n",
              "\n",
              "<div id=\"df-61ef7c8e-f134-41c9-9721-45b81ede1701\">\n",
              "  <button class=\"colab-df-quickchart\" onclick=\"quickchart('df-61ef7c8e-f134-41c9-9721-45b81ede1701')\"\n",
              "            title=\"Suggest charts\"\n",
              "            style=\"display:none;\">\n",
              "\n",
              "<svg xmlns=\"http://www.w3.org/2000/svg\" height=\"24px\"viewBox=\"0 0 24 24\"\n",
              "     width=\"24px\">\n",
              "    <g>\n",
              "        <path d=\"M19 3H5c-1.1 0-2 .9-2 2v14c0 1.1.9 2 2 2h14c1.1 0 2-.9 2-2V5c0-1.1-.9-2-2-2zM9 17H7v-7h2v7zm4 0h-2V7h2v10zm4 0h-2v-4h2v4z\"/>\n",
              "    </g>\n",
              "</svg>\n",
              "  </button>\n",
              "\n",
              "<style>\n",
              "  .colab-df-quickchart {\n",
              "      --bg-color: #E8F0FE;\n",
              "      --fill-color: #1967D2;\n",
              "      --hover-bg-color: #E2EBFA;\n",
              "      --hover-fill-color: #174EA6;\n",
              "      --disabled-fill-color: #AAA;\n",
              "      --disabled-bg-color: #DDD;\n",
              "  }\n",
              "\n",
              "  [theme=dark] .colab-df-quickchart {\n",
              "      --bg-color: #3B4455;\n",
              "      --fill-color: #D2E3FC;\n",
              "      --hover-bg-color: #434B5C;\n",
              "      --hover-fill-color: #FFFFFF;\n",
              "      --disabled-bg-color: #3B4455;\n",
              "      --disabled-fill-color: #666;\n",
              "  }\n",
              "\n",
              "  .colab-df-quickchart {\n",
              "    background-color: var(--bg-color);\n",
              "    border: none;\n",
              "    border-radius: 50%;\n",
              "    cursor: pointer;\n",
              "    display: none;\n",
              "    fill: var(--fill-color);\n",
              "    height: 32px;\n",
              "    padding: 0;\n",
              "    width: 32px;\n",
              "  }\n",
              "\n",
              "  .colab-df-quickchart:hover {\n",
              "    background-color: var(--hover-bg-color);\n",
              "    box-shadow: 0 1px 2px rgba(60, 64, 67, 0.3), 0 1px 3px 1px rgba(60, 64, 67, 0.15);\n",
              "    fill: var(--button-hover-fill-color);\n",
              "  }\n",
              "\n",
              "  .colab-df-quickchart-complete:disabled,\n",
              "  .colab-df-quickchart-complete:disabled:hover {\n",
              "    background-color: var(--disabled-bg-color);\n",
              "    fill: var(--disabled-fill-color);\n",
              "    box-shadow: none;\n",
              "  }\n",
              "\n",
              "  .colab-df-spinner {\n",
              "    border: 2px solid var(--fill-color);\n",
              "    border-color: transparent;\n",
              "    border-bottom-color: var(--fill-color);\n",
              "    animation:\n",
              "      spin 1s steps(1) infinite;\n",
              "  }\n",
              "\n",
              "  @keyframes spin {\n",
              "    0% {\n",
              "      border-color: transparent;\n",
              "      border-bottom-color: var(--fill-color);\n",
              "      border-left-color: var(--fill-color);\n",
              "    }\n",
              "    20% {\n",
              "      border-color: transparent;\n",
              "      border-left-color: var(--fill-color);\n",
              "      border-top-color: var(--fill-color);\n",
              "    }\n",
              "    30% {\n",
              "      border-color: transparent;\n",
              "      border-left-color: var(--fill-color);\n",
              "      border-top-color: var(--fill-color);\n",
              "      border-right-color: var(--fill-color);\n",
              "    }\n",
              "    40% {\n",
              "      border-color: transparent;\n",
              "      border-right-color: var(--fill-color);\n",
              "      border-top-color: var(--fill-color);\n",
              "    }\n",
              "    60% {\n",
              "      border-color: transparent;\n",
              "      border-right-color: var(--fill-color);\n",
              "    }\n",
              "    80% {\n",
              "      border-color: transparent;\n",
              "      border-right-color: var(--fill-color);\n",
              "      border-bottom-color: var(--fill-color);\n",
              "    }\n",
              "    90% {\n",
              "      border-color: transparent;\n",
              "      border-bottom-color: var(--fill-color);\n",
              "    }\n",
              "  }\n",
              "</style>\n",
              "\n",
              "  <script>\n",
              "    async function quickchart(key) {\n",
              "      const quickchartButtonEl =\n",
              "        document.querySelector('#' + key + ' button');\n",
              "      quickchartButtonEl.disabled = true;  // To prevent multiple clicks.\n",
              "      quickchartButtonEl.classList.add('colab-df-spinner');\n",
              "      try {\n",
              "        const charts = await google.colab.kernel.invokeFunction(\n",
              "            'suggestCharts', [key], {});\n",
              "      } catch (error) {\n",
              "        console.error('Error during call to suggestCharts:', error);\n",
              "      }\n",
              "      quickchartButtonEl.classList.remove('colab-df-spinner');\n",
              "      quickchartButtonEl.classList.add('colab-df-quickchart-complete');\n",
              "    }\n",
              "    (() => {\n",
              "      let quickchartButtonEl =\n",
              "        document.querySelector('#df-61ef7c8e-f134-41c9-9721-45b81ede1701 button');\n",
              "      quickchartButtonEl.style.display =\n",
              "        google.colab.kernel.accessAllowed ? 'block' : 'none';\n",
              "    })();\n",
              "  </script>\n",
              "</div>\n",
              "    </div>\n",
              "  </div>\n"
            ],
            "application/vnd.google.colaboratory.intrinsic+json": {
              "type": "dataframe",
              "variable_name": "data"
            }
          },
          "metadata": {}
        }
      ]
    },
    {
      "cell_type": "markdown",
      "source": [
        "- SalePrice - harga jual properti dalam dolar. Ini adalah variabel target yang ingin Anda prediksi.\n",
        "- MSSubClass: Kelas bangunan\n",
        "- MSZoning: Klasifikasi zonasi umum\n",
        "- LotFrontage: Kaki jalan linier yang terhubung ke properti\n",
        "- LotArea: Ukuran lot dalam kaki persegi\n",
        "- Street: Jenis akses jalan\n",
        "- Alley: Jenis akses gang\n",
        "- LotShape: Bentuk umum properti\n",
        "- LandContour: Kerataan properti\n",
        "- Utilites: Jenis utilitas yang tersedia\n",
        "- LotConfig: Konfigurasi banyak\n",
        "- LandSlope: Kemiringan properti\n",
        "- Neighborhood: Lokasi fisik dalam batas kota Ames\n",
        "- Condition 1: Dekat dengan jalan utama atau rel kereta api\n",
        "- Condition 2: Dekat dengan jalan utama atau rel kereta api (jika ada yang kedua)\n",
        "- BldgType: Tipe hunian\n",
        "- HouseStyle: Gaya hunian\n",
        "- OverallQual: Keseluruhan material dan kualitas hasil akhir\n",
        "- OverallCond: Peringkat kondisi keseluruhan\n",
        "- YearBuilt: Tanggal konstruksi asli\n",
        "- YearRemodAdd: Tanggal perombakan\n",
        "- RoofStyle: Jenis atap\n",
        "- RoofMatl : Bahan atap\n",
        "- Exterior1st: Penutup eksterior pada rumah\n",
        "- Exterior2nd: Penutup eksterior pada rumah (jika lebih dari satu bahan)\n",
        "- MasVnrType: Jenis veneer pasangan bata\n",
        "- MasVnrArea: Area veneer batu dalam kaki persegi\n",
        "- ExterQual: Kualitas material eksterior\n",
        "- ExterCond: Kondisi material eksterior saat ini\n",
        "- Pondasi: Jenis pondasi\n",
        "- BsmtQual : Ketinggian basement\n",
        "- BsmtCond : Kondisi umum basement\n",
        "- BsmtExposure: Dinding basement walkout atau tingkat taman\n",
        "- BsmtFinType1: Kualitas area basement jadi\n",
        "- BsmtFinSF1: Tipe 1 kaki persegi jadi\n",
        "- BsmtFinType2: Kualitas area jadi kedua (jika ada)\n",
        "- BsmtFinSF2: Tipe 2 kaki persegi jadi\n",
        "- BsmtUnfSF: Area basement seluas satu kaki persegi yang belum selesai\n",
        "- TotalBsmtSF: Total kaki persegi luas basement\n",
        "- Heating: Jenis pemanasan\n",
        "- HeatingQC: Kualitas dan kondisi pemanasan\n",
        "- CentralAir: AC sentral\n",
        "- Elictrical: Sistem kelistrikan\n",
        "- 1stFlrSF: Kaki persegi Lantai Pertama\n",
        "- 2ndFlrSF: Lantai dua kaki persegi\n",
        "- LowQualFinSF: Kaki persegi jadi berkualitas rendah (semua lantai)\n",
        "- GrLivArea: Kaki persegi ruang tamu di atas permukaan tanah (tanah).\n",
        "- BsmtFullBath: Kamar mandi lengkap di ruang bawah tanah\n",
        "- BsmtHalfBath: Setengah kamar mandi bawah tanah\n",
        "- FullBath: Kamar mandi lengkap di atas kelas\n",
        "- HalfBath: Setengah kamar mandi di atas kelas\n",
        "- Bedroom: Jumlah kamar tidur di atas lantai basement\n",
        "- Kitchen: Jumlah dapur\n",
        "- KitchenQual : Kualitas dapur\n",
        "- TotRmsAbvGrd : Total kamar diatas kelas (tidak termasuk kamar mandi)\n",
        "- Functional: Peringkat fungsionalitas rumah\n",
        "- Fireplaces: Jumlah perapian\n",
        "- FireplaceQu: Kualitas perapian\n",
        "- GarageType: Lokasi garasi\n",
        "- GarageYrBlt: Tahun garasi dibangun\n",
        "- GarageFinish: Finishing interior garasi\n",
        "- GarageCars: Ukuran garasi dalam kapasitas mobil\n",
        "- GarageArea: Ukuran garasi dalam kaki persegi\n",
        " GarageQual: Kualitas garasi\n",
        "- GarageCond: Kondisi garasi\n",
        "- PavedDrive: Jalan masuk beraspal\n",
        "- WoodDeckSF: Luas dek kayu dalam kaki persegi\n",
        "- OpenPorchSF: Area teras terbuka dalam satuan kaki persegi\n",
        "- EnclosedPorch: Area teras tertutup dalam ukuran kaki persegi\n",
        "- 3SsnPorch: Area teras tiga musim dalam kaki persegi\n",
        "- ScreenPorch: Area teras layar dalam kaki persegi\n",
        "- PoolArea: Area kolam dalam kaki persegi\n",
        "- PoolQC: Kualitas kolam\n",
        "- Fence: Kualitas pagar\n",
        "- MiscFeature: Fitur lain-lain yang tidak tercakup dalam kategori lain\n",
        "- MiscVal: $Nilai fitur lain-lain\n",
        "- MoSold: Bulan Terjual\n",
        "- YrSold: Tahun Terjual\n",
        "- SaleType: Jenis penjualan\n",
        "- SaleCondition: Kondisi penjualan"
      ],
      "metadata": {
        "id": "0dCr-5ahAq0l"
      }
    },
    {
      "cell_type": "markdown",
      "source": [
        "## Missing Value"
      ],
      "metadata": {
        "id": "sF2zZU3TE6Ju"
      }
    },
    {
      "cell_type": "code",
      "source": [
        "data.info()"
      ],
      "metadata": {
        "id": "PLCik6LlC1el"
      },
      "execution_count": null,
      "outputs": []
    },
    {
      "cell_type": "markdown",
      "source": [
        "Total data yang seharusnya ada adalah 1460. Dalam data ini terdapat beberapa kolom yang datanya Missing. Diantaranya adalah :\n",
        "- LotFrontage : 259 Data Missing Value\n",
        "- Alley : 1369 Data Missing Value\n",
        "- MasVnrType : 8 Data Missing Value\n",
        "- MasVnrArea : 8 Data Missing Value\n",
        "- BsmtQual : 37 Data Missing Value\n",
        "- BsmtCond : 37 Data Missing Value\n",
        "- BsmtExposure : 38 Data Missing Value\n",
        "- BsmtFinType1 : 37 Data Missing Value\n",
        "- BsmtFinType2 : 38 Data Missing Value\n",
        "- Electrical : 1 Data Missing Value\n",
        "- FireplaceQu : 690 Data Missing Value\n",
        "- GarageType : 81 Data Missing Value\n",
        "- GarageYrBlt : 81 Data Missing Value\n",
        "- GarageFinish : 81 Data Missing Value\n",
        "- GarageQual : 81 Data Missing Value\n",
        "- GarageCond : 81 Data Missing Value\n",
        "- PoolQC : 1453 Data Missing Value\n",
        "- Fence : 1179 Data Missing Value\n",
        "- MiscFeature : 1406 Data Missing Value"
      ],
      "metadata": {
        "id": "prXEBPXaFHZs"
      }
    },
    {
      "cell_type": "markdown",
      "source": [
        "Dari sini saya membuat ketentuan yaitu jika data Missing Value mencapai lebih dari 1/4 jumlah data, maka saya akan menghapusnya. Karena sudah tidak merepresentasikan data. Jika datanya <= 1/4 jumlah data maka saya akan mengisinya menggunakan mean atau median."
      ],
      "metadata": {
        "id": "m9XK-Pdzrgyr"
      }
    },
    {
      "cell_type": "code",
      "source": [
        "data[\"OverallCond\"]"
      ],
      "metadata": {
        "colab": {
          "base_uri": "https://localhost:8080/"
        },
        "id": "8d8siRAZdqmW",
        "outputId": "9a7f39eb-d761-430b-e586-d8aef5184c85"
      },
      "execution_count": null,
      "outputs": [
        {
          "output_type": "execute_result",
          "data": {
            "text/plain": [
              "0       5\n",
              "1       8\n",
              "2       5\n",
              "3       5\n",
              "4       5\n",
              "       ..\n",
              "1455    5\n",
              "1456    6\n",
              "1457    9\n",
              "1458    6\n",
              "1459    6\n",
              "Name: OverallCond, Length: 1460, dtype: int64"
            ]
          },
          "metadata": {},
          "execution_count": 4
        }
      ]
    },
    {
      "cell_type": "code",
      "source": [
        "data.describe()"
      ],
      "metadata": {
        "id": "UOyXm6NMDGN9"
      },
      "execution_count": null,
      "outputs": []
    },
    {
      "cell_type": "code",
      "source": [
        "data.describe(include=object)"
      ],
      "metadata": {
        "id": "wyKsVTwNDRPm"
      },
      "execution_count": null,
      "outputs": []
    },
    {
      "cell_type": "code",
      "source": [
        "meanLotFrontage = np.mean(data.LotFrontage)\n",
        "print(\"LotFrontage :\", meanLotFrontage)"
      ],
      "metadata": {
        "id": "mFbmk0u6DgpU"
      },
      "execution_count": null,
      "outputs": []
    },
    {
      "cell_type": "markdown",
      "source": [
        "Disini saya mengatasi Missing Value pada kolom LotFrontage yaitu dengan mengisi nya menggunakan median"
      ],
      "metadata": {
        "id": "vmtvwWidxLaV"
      }
    },
    {
      "cell_type": "code",
      "source": [
        "data[\"LotFrontage\"] = data[\"LotFrontage\"].fillna(data[\"LotFrontage\"].median())\n",
        "data[\"LotFrontage\"]"
      ],
      "metadata": {
        "id": "3IgRMO9Bv2Ks"
      },
      "execution_count": null,
      "outputs": []
    },
    {
      "cell_type": "markdown",
      "source": [
        "Disini saya menghapus kolom Alley karena data yang Missing Value lebih dari 1/4 jumlah data"
      ],
      "metadata": {
        "id": "hAGFrwaJ9qql"
      }
    },
    {
      "cell_type": "code",
      "source": [
        "data = data.drop('Alley', axis=1)"
      ],
      "metadata": {
        "id": "cBuItMJa2Ru4"
      },
      "execution_count": null,
      "outputs": []
    },
    {
      "cell_type": "code",
      "source": [
        "display(data)"
      ],
      "metadata": {
        "id": "4diyxaq-HgY9"
      },
      "execution_count": null,
      "outputs": []
    },
    {
      "cell_type": "code",
      "source": [
        "kolom_MasVnrType = data['MasVnrType']\n",
        "print(kolom_MasVnrType)"
      ],
      "metadata": {
        "id": "Co5xsM2dZxPh"
      },
      "execution_count": null,
      "outputs": []
    },
    {
      "cell_type": "code",
      "source": [
        "import statistics as stats\n",
        "stats.mode(data['MasVnrType'])"
      ],
      "metadata": {
        "id": "PY9-acwCb6m_"
      },
      "execution_count": null,
      "outputs": []
    },
    {
      "cell_type": "code",
      "source": [
        "mode_MasVnrType = data['MasVnrType'].mode()[0]  # Mendapatkan mode (nilai paling sering muncul)\n",
        "data['MasVnrType'] = data['MasVnrType'].fillna(mode_MasVnrType)"
      ],
      "metadata": {
        "id": "IE24VL2CcxZp"
      },
      "execution_count": null,
      "outputs": []
    },
    {
      "cell_type": "markdown",
      "source": [
        "Disini saya menggunakan Mode untuk mengisi data Missing Value pada kolom MasVnrType"
      ],
      "metadata": {
        "id": "_TFNJj5Ec7N-"
      }
    },
    {
      "cell_type": "code",
      "source": [
        "meanMasVnrArea = np.mean(data.MasVnrArea)\n",
        "print(\"MasVnrArea :\", meanMasVnrArea)"
      ],
      "metadata": {
        "id": "2RfAHmLfdZmq"
      },
      "execution_count": null,
      "outputs": []
    },
    {
      "cell_type": "code",
      "source": [
        "mode_MasVnrArea = data['MasVnrArea'].mode()[0]  # Mendapatkan mode (nilai paling sering muncul)\n",
        "data['MasVnrArea'] = data['MasVnrArea'].fillna(mode_MasVnrArea)"
      ],
      "metadata": {
        "id": "h00uR5S3lcUG"
      },
      "execution_count": null,
      "outputs": []
    },
    {
      "cell_type": "markdown",
      "source": [
        "Disini saya menggunakan mode untuk mengisi Missing Value"
      ],
      "metadata": {
        "id": "pWCdkoIVp3Ba"
      }
    },
    {
      "cell_type": "code",
      "source": [
        "kolom_BsmtQual = data['BsmtQual']\n",
        "print(kolom_BsmtQual)"
      ],
      "metadata": {
        "id": "G0pDgF7Op9BQ"
      },
      "execution_count": null,
      "outputs": []
    },
    {
      "cell_type": "code",
      "source": [
        "display(data)"
      ],
      "metadata": {
        "id": "R9YhdPpyqe_Q"
      },
      "execution_count": null,
      "outputs": []
    },
    {
      "cell_type": "code",
      "source": [
        "stats.mode(data['BsmtQual'])"
      ],
      "metadata": {
        "id": "FzSWpZtmuYuL"
      },
      "execution_count": null,
      "outputs": []
    },
    {
      "cell_type": "code",
      "source": [
        "mode_BsmtQual = data['BsmtQual'].mode()[0]  # Mendapatkan mode (nilai paling sering muncul)\n",
        "data['BsmtQual'] = data['BsmtQual'].fillna(mode_BsmtQual)"
      ],
      "metadata": {
        "id": "JKwSji97unnE"
      },
      "execution_count": null,
      "outputs": []
    },
    {
      "cell_type": "code",
      "source": [
        "data['BsmtCond']"
      ],
      "metadata": {
        "id": "PEyj8wh4wDGS"
      },
      "execution_count": null,
      "outputs": []
    },
    {
      "cell_type": "code",
      "source": [
        "mode_BsmtCond = data['BsmtCond'].mode()[0]\n",
        "data['BsmtCond'] = data['BsmtCond'].fillna(mode_BsmtCond)"
      ],
      "metadata": {
        "id": "69l_sl9swHqC"
      },
      "execution_count": null,
      "outputs": []
    },
    {
      "cell_type": "code",
      "source": [
        "data['BsmtExposure']"
      ],
      "metadata": {
        "colab": {
          "base_uri": "https://localhost:8080/",
          "height": 141
        },
        "id": "fwMwZrbfws26",
        "outputId": "e5683e9b-850b-4a92-b731-d30d1e04d155"
      },
      "execution_count": null,
      "outputs": [
        {
          "output_type": "error",
          "ename": "NameError",
          "evalue": "name 'data' is not defined",
          "traceback": [
            "\u001b[0;31m---------------------------------------------------------------------------\u001b[0m",
            "\u001b[0;31mNameError\u001b[0m                                 Traceback (most recent call last)",
            "\u001b[0;32m<ipython-input-6-f1deb450e9fe>\u001b[0m in \u001b[0;36m<cell line: 1>\u001b[0;34m()\u001b[0m\n\u001b[0;32m----> 1\u001b[0;31m \u001b[0mdata\u001b[0m\u001b[0;34m[\u001b[0m\u001b[0;34m'BsmtExposure'\u001b[0m\u001b[0;34m]\u001b[0m\u001b[0;34m\u001b[0m\u001b[0;34m\u001b[0m\u001b[0m\n\u001b[0m",
            "\u001b[0;31mNameError\u001b[0m: name 'data' is not defined"
          ]
        }
      ]
    },
    {
      "cell_type": "code",
      "source": [
        "stats.mode(data['BsmtExposure'])"
      ],
      "metadata": {
        "id": "8s42cVMEw8Uu"
      },
      "execution_count": null,
      "outputs": []
    },
    {
      "cell_type": "code",
      "source": [
        "mode_BsmtExposure = data['BsmtExposure'].mode()[0]\n",
        "data['BsmtExposure'] = data['BsmtExposure'].fillna(mode_BsmtExposure)"
      ],
      "metadata": {
        "id": "txFkJzjkxIiC"
      },
      "execution_count": null,
      "outputs": []
    },
    {
      "cell_type": "code",
      "source": [
        "data['BsmtFinType1']"
      ],
      "metadata": {
        "id": "qZQSJTJqya_z"
      },
      "execution_count": null,
      "outputs": []
    },
    {
      "cell_type": "code",
      "source": [
        "stats.mode(data['BsmtFinType1'])"
      ],
      "metadata": {
        "id": "yUbwycZ2yfjR"
      },
      "execution_count": null,
      "outputs": []
    },
    {
      "cell_type": "code",
      "source": [
        "mode_BsmtFinType1 = data['BsmtFinType1'].mode()[0]\n",
        "data['BsmtFinType1'] = data['BsmtFinType1'].fillna(mode_BsmtFinType1)"
      ],
      "metadata": {
        "id": "UXsdbgdm3Ib5"
      },
      "execution_count": null,
      "outputs": []
    },
    {
      "cell_type": "code",
      "source": [
        "stats.mode(data['BsmtFinType2'])"
      ],
      "metadata": {
        "id": "_ePKfWRL6g23"
      },
      "execution_count": null,
      "outputs": []
    },
    {
      "cell_type": "code",
      "source": [
        "mode_BsmtFinType2 = data['BsmtFinType2'].mode()[0]\n",
        "data['BsmtFinType2'] = data['BsmtFinType2'].fillna(mode_BsmtFinType2)"
      ],
      "metadata": {
        "id": "SNl5TMFp6ku_"
      },
      "execution_count": null,
      "outputs": []
    },
    {
      "cell_type": "code",
      "source": [
        "data['Electrical']"
      ],
      "metadata": {
        "id": "Am8tuazu7EtQ"
      },
      "execution_count": null,
      "outputs": []
    },
    {
      "cell_type": "code",
      "source": [
        "stats.mode(data['Electrical'])"
      ],
      "metadata": {
        "id": "N3JKLkp-7Lb7"
      },
      "execution_count": null,
      "outputs": []
    },
    {
      "cell_type": "code",
      "source": [
        "mode_Electrical = data['Electrical'].mode()[0]\n",
        "data['Electrical'] = data['Electrical'].fillna(mode_Electrical)"
      ],
      "metadata": {
        "id": "LQ3sUqdx7gfm"
      },
      "execution_count": null,
      "outputs": []
    },
    {
      "cell_type": "code",
      "source": [
        "data.info()"
      ],
      "metadata": {
        "id": "uU4Ar178uu-6"
      },
      "execution_count": null,
      "outputs": []
    },
    {
      "cell_type": "code",
      "source": [
        "FireplaceQu_TA = data.loc[data['FireplaceQu'] == 'TA', ['FireplaceQu']]\n",
        "FireplaceQu_TA"
      ],
      "metadata": {
        "id": "4TXM24YSGSe7"
      },
      "execution_count": null,
      "outputs": []
    },
    {
      "cell_type": "code",
      "source": [
        "FireplaceQu_Gd = data.loc[data['FireplaceQu'] == 'Gd', ['FireplaceQu']]\n",
        "FireplaceQu_Gd"
      ],
      "metadata": {
        "id": "nVBjanpeI8m7"
      },
      "execution_count": null,
      "outputs": []
    },
    {
      "cell_type": "code",
      "source": [
        "FireplaceQu_Ex = data.loc[data['FireplaceQu'] == 'Ex', ['FireplaceQu']]\n",
        "FireplaceQu_Ex"
      ],
      "metadata": {
        "id": "k53EpZaWIjlZ"
      },
      "execution_count": null,
      "outputs": []
    },
    {
      "cell_type": "code",
      "source": [
        "stats.mode(data['FireplaceQu'])"
      ],
      "metadata": {
        "id": "TtCH1xwnF2OK"
      },
      "execution_count": null,
      "outputs": []
    },
    {
      "cell_type": "markdown",
      "source": [
        "## Feature\n",
        "\n",
        "- Total luas bangunan : 1stFlrSF + 2ndFlrSF + TotalBsmtSF.\n",
        "- Usia bangunan : YrBuilt - YrSold\n",
        "- Jumlah kamar mandi : FullBath + HalfBath\n",
        "- Total luas teras : WoodDeckSF + OpenPorchSF + EnclosedPorch + 3SsnPorch + ScreenPorch.\n",
        "- Rating Kualitas rumah : (OverallQual + OverallCond)/2\n",
        "- Total ruangan : Bedroom + TotRmsAbvGrd\n",
        "- Kondisi Garasi : (GarageQual + GarageCond) /2\n",
        "-\n"
      ],
      "metadata": {
        "id": "HHn2_wfYbTPJ"
      }
    }
  ]
}